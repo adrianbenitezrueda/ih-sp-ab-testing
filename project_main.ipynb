{
 "cells": [
  {
   "cell_type": "markdown",
   "id": "cccfed8d",
   "metadata": {},
   "source": [
    "## EDA"
   ]
  },
  {
   "cell_type": "markdown",
   "id": "b6d547a0",
   "metadata": {},
   "source": [
    "### Import all modules"
   ]
  },
  {
   "cell_type": "code",
   "execution_count": 225,
   "id": "7ef2ae85",
   "metadata": {},
   "outputs": [
    {
     "data": {
      "text/plain": [
       "<module 'project_functions' from '/Users/adrianbenitezrueda/Documents/IRONHACK/GITHUB/WEEK 5 & 6 /Second Project/ih-sp-ab-testing/project_functions.py'>"
      ]
     },
     "execution_count": 225,
     "metadata": {},
     "output_type": "execute_result"
    }
   ],
   "source": [
    "# Import the module with the functions\n",
    "import importlib\n",
    "import project_functions as pf\n",
    "importlib.reload(pf)"
   ]
  },
  {
   "cell_type": "markdown",
   "id": "2a4a454e",
   "metadata": {},
   "source": [
    "### Data load & merge"
   ]
  },
  {
   "cell_type": "markdown",
   "id": "3fcb032d",
   "metadata": {},
   "source": [
    "#### Web data"
   ]
  },
  {
   "cell_type": "code",
   "execution_count": 226,
   "id": "fd1f705d",
   "metadata": {},
   "outputs": [
    {
     "data": {
      "text/html": [
       "<div>\n",
       "<style scoped>\n",
       "    .dataframe tbody tr th:only-of-type {\n",
       "        vertical-align: middle;\n",
       "    }\n",
       "\n",
       "    .dataframe tbody tr th {\n",
       "        vertical-align: top;\n",
       "    }\n",
       "\n",
       "    .dataframe thead th {\n",
       "        text-align: right;\n",
       "    }\n",
       "</style>\n",
       "<table border=\"1\" class=\"dataframe\">\n",
       "  <thead>\n",
       "    <tr style=\"text-align: right;\">\n",
       "      <th></th>\n",
       "      <th>client_id</th>\n",
       "      <th>visitor_id</th>\n",
       "      <th>visit_id</th>\n",
       "      <th>process_step</th>\n",
       "      <th>date_time</th>\n",
       "    </tr>\n",
       "  </thead>\n",
       "  <tbody>\n",
       "    <tr>\n",
       "      <th>0</th>\n",
       "      <td>9988021</td>\n",
       "      <td>580560515_7732621733</td>\n",
       "      <td>781255054_21935453173_531117</td>\n",
       "      <td>step_3</td>\n",
       "      <td>2017-04-17 15:27:07</td>\n",
       "    </tr>\n",
       "    <tr>\n",
       "      <th>1</th>\n",
       "      <td>9988021</td>\n",
       "      <td>580560515_7732621733</td>\n",
       "      <td>781255054_21935453173_531117</td>\n",
       "      <td>step_2</td>\n",
       "      <td>2017-04-17 15:26:51</td>\n",
       "    </tr>\n",
       "    <tr>\n",
       "      <th>2</th>\n",
       "      <td>9988021</td>\n",
       "      <td>580560515_7732621733</td>\n",
       "      <td>781255054_21935453173_531117</td>\n",
       "      <td>step_3</td>\n",
       "      <td>2017-04-17 15:19:22</td>\n",
       "    </tr>\n",
       "    <tr>\n",
       "      <th>3</th>\n",
       "      <td>9988021</td>\n",
       "      <td>580560515_7732621733</td>\n",
       "      <td>781255054_21935453173_531117</td>\n",
       "      <td>step_2</td>\n",
       "      <td>2017-04-17 15:19:13</td>\n",
       "    </tr>\n",
       "    <tr>\n",
       "      <th>4</th>\n",
       "      <td>9988021</td>\n",
       "      <td>580560515_7732621733</td>\n",
       "      <td>781255054_21935453173_531117</td>\n",
       "      <td>step_3</td>\n",
       "      <td>2017-04-17 15:18:04</td>\n",
       "    </tr>\n",
       "  </tbody>\n",
       "</table>\n",
       "</div>"
      ],
      "text/plain": [
       "   client_id            visitor_id                      visit_id process_step  \\\n",
       "0    9988021  580560515_7732621733  781255054_21935453173_531117       step_3   \n",
       "1    9988021  580560515_7732621733  781255054_21935453173_531117       step_2   \n",
       "2    9988021  580560515_7732621733  781255054_21935453173_531117       step_3   \n",
       "3    9988021  580560515_7732621733  781255054_21935453173_531117       step_2   \n",
       "4    9988021  580560515_7732621733  781255054_21935453173_531117       step_3   \n",
       "\n",
       "             date_time  \n",
       "0  2017-04-17 15:27:07  \n",
       "1  2017-04-17 15:26:51  \n",
       "2  2017-04-17 15:19:22  \n",
       "3  2017-04-17 15:19:13  \n",
       "4  2017-04-17 15:18:04  "
      ]
     },
     "execution_count": 226,
     "metadata": {},
     "output_type": "execute_result"
    }
   ],
   "source": [
    "# Load web data using modular function\n",
    "csv1_path = 'csv/original/df_final_web_data_pt_1.txt'\n",
    "csv2_path = 'csv/original/df_final_web_data_pt_2.txt'\n",
    "df_wd_merged = pf.load_web_data(csv1_path, csv2_path)\n",
    "df_wd_merged.head()"
   ]
  },
  {
   "cell_type": "markdown",
   "id": "c33e60fe",
   "metadata": {},
   "source": [
    "#### Demo"
   ]
  },
  {
   "cell_type": "code",
   "execution_count": 227,
   "id": "45cd43b4",
   "metadata": {},
   "outputs": [
    {
     "data": {
      "text/html": [
       "<div>\n",
       "<style scoped>\n",
       "    .dataframe tbody tr th:only-of-type {\n",
       "        vertical-align: middle;\n",
       "    }\n",
       "\n",
       "    .dataframe tbody tr th {\n",
       "        vertical-align: top;\n",
       "    }\n",
       "\n",
       "    .dataframe thead th {\n",
       "        text-align: right;\n",
       "    }\n",
       "</style>\n",
       "<table border=\"1\" class=\"dataframe\">\n",
       "  <thead>\n",
       "    <tr style=\"text-align: right;\">\n",
       "      <th></th>\n",
       "      <th>client_id</th>\n",
       "      <th>clnt_tenure_yr</th>\n",
       "      <th>clnt_tenure_mnth</th>\n",
       "      <th>clnt_age</th>\n",
       "      <th>gendr</th>\n",
       "      <th>num_accts</th>\n",
       "      <th>bal</th>\n",
       "      <th>calls_6_mnth</th>\n",
       "      <th>logons_6_mnth</th>\n",
       "    </tr>\n",
       "  </thead>\n",
       "  <tbody>\n",
       "    <tr>\n",
       "      <th>0</th>\n",
       "      <td>836976</td>\n",
       "      <td>6.0</td>\n",
       "      <td>73.0</td>\n",
       "      <td>60.5</td>\n",
       "      <td>U</td>\n",
       "      <td>2.0</td>\n",
       "      <td>45105.30</td>\n",
       "      <td>6.0</td>\n",
       "      <td>9.0</td>\n",
       "    </tr>\n",
       "    <tr>\n",
       "      <th>1</th>\n",
       "      <td>2304905</td>\n",
       "      <td>7.0</td>\n",
       "      <td>94.0</td>\n",
       "      <td>58.0</td>\n",
       "      <td>U</td>\n",
       "      <td>2.0</td>\n",
       "      <td>110860.30</td>\n",
       "      <td>6.0</td>\n",
       "      <td>9.0</td>\n",
       "    </tr>\n",
       "    <tr>\n",
       "      <th>2</th>\n",
       "      <td>1439522</td>\n",
       "      <td>5.0</td>\n",
       "      <td>64.0</td>\n",
       "      <td>32.0</td>\n",
       "      <td>U</td>\n",
       "      <td>2.0</td>\n",
       "      <td>52467.79</td>\n",
       "      <td>6.0</td>\n",
       "      <td>9.0</td>\n",
       "    </tr>\n",
       "    <tr>\n",
       "      <th>3</th>\n",
       "      <td>1562045</td>\n",
       "      <td>16.0</td>\n",
       "      <td>198.0</td>\n",
       "      <td>49.0</td>\n",
       "      <td>M</td>\n",
       "      <td>2.0</td>\n",
       "      <td>67454.65</td>\n",
       "      <td>3.0</td>\n",
       "      <td>6.0</td>\n",
       "    </tr>\n",
       "    <tr>\n",
       "      <th>4</th>\n",
       "      <td>5126305</td>\n",
       "      <td>12.0</td>\n",
       "      <td>145.0</td>\n",
       "      <td>33.0</td>\n",
       "      <td>F</td>\n",
       "      <td>2.0</td>\n",
       "      <td>103671.75</td>\n",
       "      <td>0.0</td>\n",
       "      <td>3.0</td>\n",
       "    </tr>\n",
       "  </tbody>\n",
       "</table>\n",
       "</div>"
      ],
      "text/plain": [
       "   client_id  clnt_tenure_yr  clnt_tenure_mnth  clnt_age gendr  num_accts  \\\n",
       "0     836976             6.0              73.0      60.5     U        2.0   \n",
       "1    2304905             7.0              94.0      58.0     U        2.0   \n",
       "2    1439522             5.0              64.0      32.0     U        2.0   \n",
       "3    1562045            16.0             198.0      49.0     M        2.0   \n",
       "4    5126305            12.0             145.0      33.0     F        2.0   \n",
       "\n",
       "         bal  calls_6_mnth  logons_6_mnth  \n",
       "0   45105.30           6.0            9.0  \n",
       "1  110860.30           6.0            9.0  \n",
       "2   52467.79           6.0            9.0  \n",
       "3   67454.65           3.0            6.0  \n",
       "4  103671.75           0.0            3.0  "
      ]
     },
     "execution_count": 227,
     "metadata": {},
     "output_type": "execute_result"
    }
   ],
   "source": [
    "# Load demo data using modular function\n",
    "csv_demo_path = 'csv/original/df_final_demo.txt'\n",
    "df_demo = pf.load_demo_data(csv_demo_path)\n",
    "df_demo.head()"
   ]
  },
  {
   "cell_type": "markdown",
   "id": "da1a1bf0",
   "metadata": {},
   "source": [
    "#### Experiment clients"
   ]
  },
  {
   "cell_type": "code",
   "execution_count": 228,
   "id": "ae27b38e",
   "metadata": {},
   "outputs": [
    {
     "data": {
      "text/html": [
       "<div>\n",
       "<style scoped>\n",
       "    .dataframe tbody tr th:only-of-type {\n",
       "        vertical-align: middle;\n",
       "    }\n",
       "\n",
       "    .dataframe tbody tr th {\n",
       "        vertical-align: top;\n",
       "    }\n",
       "\n",
       "    .dataframe thead th {\n",
       "        text-align: right;\n",
       "    }\n",
       "</style>\n",
       "<table border=\"1\" class=\"dataframe\">\n",
       "  <thead>\n",
       "    <tr style=\"text-align: right;\">\n",
       "      <th></th>\n",
       "      <th>client_id</th>\n",
       "      <th>Variation</th>\n",
       "    </tr>\n",
       "  </thead>\n",
       "  <tbody>\n",
       "    <tr>\n",
       "      <th>0</th>\n",
       "      <td>9988021</td>\n",
       "      <td>Test</td>\n",
       "    </tr>\n",
       "    <tr>\n",
       "      <th>1</th>\n",
       "      <td>8320017</td>\n",
       "      <td>Test</td>\n",
       "    </tr>\n",
       "    <tr>\n",
       "      <th>2</th>\n",
       "      <td>4033851</td>\n",
       "      <td>Control</td>\n",
       "    </tr>\n",
       "    <tr>\n",
       "      <th>3</th>\n",
       "      <td>1982004</td>\n",
       "      <td>Test</td>\n",
       "    </tr>\n",
       "    <tr>\n",
       "      <th>4</th>\n",
       "      <td>9294070</td>\n",
       "      <td>Control</td>\n",
       "    </tr>\n",
       "  </tbody>\n",
       "</table>\n",
       "</div>"
      ],
      "text/plain": [
       "   client_id Variation\n",
       "0    9988021      Test\n",
       "1    8320017      Test\n",
       "2    4033851   Control\n",
       "3    1982004      Test\n",
       "4    9294070   Control"
      ]
     },
     "execution_count": 228,
     "metadata": {},
     "output_type": "execute_result"
    }
   ],
   "source": [
    "# Load experiment clients data using modular function\n",
    "csv_exp_clients_path = 'csv/original/df_final_experiment_clients.txt'\n",
    "df_exp_clients = pf.load_exp_clients_data(csv_exp_clients_path)\n",
    "df_exp_clients.head()"
   ]
  },
  {
   "cell_type": "markdown",
   "id": "9a858c40",
   "metadata": {},
   "source": [
    "### Data Exploration"
   ]
  },
  {
   "cell_type": "markdown",
   "id": "5f71d931",
   "metadata": {},
   "source": [
    "#### Check if client_id's in Demo and Experiment clients are equal"
   ]
  },
  {
   "cell_type": "code",
   "execution_count": 229,
   "id": "77b715e8",
   "metadata": {},
   "outputs": [
    {
     "name": "stdout",
     "output_type": "stream",
     "text": [
      "All values in df_demo are present in df_exp_clients.\n",
      "All values in df_exp_clients are present in df_demo.\n"
     ]
    }
   ],
   "source": [
    "# Convert your DataFrame columns to sets and call the function\n",
    "clients_demo = set(df_demo['client_id'])\n",
    "clients_exp_clients = set(df_exp_clients['client_id'])\n",
    "\n",
    "# Compare df_demo to df_exp_clients\n",
    "pf.compare_sets(clients_demo, clients_exp_clients, \"df_demo\", \"df_exp_clients\")"
   ]
  },
  {
   "cell_type": "code",
   "execution_count": 230,
   "id": "951ec5fd",
   "metadata": {},
   "outputs": [
    {
     "name": "stdout",
     "output_type": "stream",
     "text": [
      "All values in df_exp_clients are present in df_demo.\n",
      "All values in df_demo are present in df_exp_clients.\n"
     ]
    }
   ],
   "source": [
    "# Convert your DataFrame columns to sets and call the function\n",
    "clients_demo = set(df_demo['client_id'])\n",
    "clients_exp_clients = set(df_exp_clients['client_id'])\n",
    "\n",
    "# Compare df_exp_clients to df_demo\n",
    "pf.compare_sets(clients_exp_clients, clients_demo, \"df_exp_clients\", \"df_demo\")"
   ]
  },
  {
   "cell_type": "markdown",
   "id": "132f205c",
   "metadata": {},
   "source": [
    "#### Check column types"
   ]
  },
  {
   "cell_type": "code",
   "execution_count": 231,
   "id": "2c9ebb94",
   "metadata": {},
   "outputs": [
    {
     "name": "stdout",
     "output_type": "stream",
     "text": [
      "Dataframe Web Data info:\n",
      "<class 'pandas.core.frame.DataFrame'>\n",
      "Index: 755405 entries, 0 to 412263\n",
      "Data columns (total 5 columns):\n",
      " #   Column        Non-Null Count   Dtype \n",
      "---  ------        --------------   ----- \n",
      " 0   client_id     755405 non-null  int64 \n",
      " 1   visitor_id    755405 non-null  object\n",
      " 2   visit_id      755405 non-null  object\n",
      " 3   process_step  755405 non-null  object\n",
      " 4   date_time     755405 non-null  object\n",
      "dtypes: int64(1), object(4)\n",
      "memory usage: 34.6+ MB\n",
      "None\n",
      "Null values in Web Data:\n",
      "client_id       0\n",
      "visitor_id      0\n",
      "visit_id        0\n",
      "process_step    0\n",
      "date_time       0\n",
      "dtype: int64\n"
     ]
    }
   ],
   "source": [
    "# Check web data info and nulls\n",
    "pf.check_data_info(df_wd_merged, 'Web Data')"
   ]
  },
  {
   "cell_type": "code",
   "execution_count": 232,
   "id": "e0a1a751",
   "metadata": {},
   "outputs": [
    {
     "name": "stdout",
     "output_type": "stream",
     "text": [
      "Dataframe Demo Data info:\n",
      "<class 'pandas.core.frame.DataFrame'>\n",
      "RangeIndex: 70609 entries, 0 to 70608\n",
      "Data columns (total 9 columns):\n",
      " #   Column            Non-Null Count  Dtype  \n",
      "---  ------            --------------  -----  \n",
      " 0   client_id         70609 non-null  int64  \n",
      " 1   clnt_tenure_yr    70595 non-null  float64\n",
      " 2   clnt_tenure_mnth  70595 non-null  float64\n",
      " 3   clnt_age          70594 non-null  float64\n",
      " 4   gendr             70595 non-null  object \n",
      " 5   num_accts         70595 non-null  float64\n",
      " 6   bal               70595 non-null  float64\n",
      " 7   calls_6_mnth      70595 non-null  float64\n",
      " 8   logons_6_mnth     70595 non-null  float64\n",
      "dtypes: float64(7), int64(1), object(1)\n",
      "memory usage: 4.8+ MB\n",
      "None\n",
      "Null values in Demo Data:\n",
      "client_id            0\n",
      "clnt_tenure_yr      14\n",
      "clnt_tenure_mnth    14\n",
      "clnt_age            15\n",
      "gendr               14\n",
      "num_accts           14\n",
      "bal                 14\n",
      "calls_6_mnth        14\n",
      "logons_6_mnth       14\n",
      "dtype: int64\n"
     ]
    }
   ],
   "source": [
    "# Check demo data info and nulls\n",
    "pf.check_data_info(df_demo, 'Demo Data')"
   ]
  },
  {
   "cell_type": "code",
   "execution_count": 233,
   "id": "2174811c",
   "metadata": {},
   "outputs": [
    {
     "name": "stdout",
     "output_type": "stream",
     "text": [
      "Dataframe Experiment Clients info:\n",
      "<class 'pandas.core.frame.DataFrame'>\n",
      "RangeIndex: 70609 entries, 0 to 70608\n",
      "Data columns (total 2 columns):\n",
      " #   Column     Non-Null Count  Dtype \n",
      "---  ------     --------------  ----- \n",
      " 0   client_id  70609 non-null  int64 \n",
      " 1   Variation  50500 non-null  object\n",
      "dtypes: int64(1), object(1)\n",
      "memory usage: 1.1+ MB\n",
      "None\n",
      "Null values in Experiment Clients:\n",
      "client_id        0\n",
      "Variation    20109\n",
      "dtype: int64\n"
     ]
    }
   ],
   "source": [
    "# Check experiment clients data info and nulls\n",
    "pf.check_data_info(df_exp_clients, 'Experiment Clients')"
   ]
  },
  {
   "cell_type": "markdown",
   "id": "b07cd3b4",
   "metadata": {},
   "source": [
    "#### Check null values"
   ]
  },
  {
   "cell_type": "code",
   "execution_count": 234,
   "id": "e3998e7c",
   "metadata": {},
   "outputs": [
    {
     "name": "stdout",
     "output_type": "stream",
     "text": [
      "Dataframe Web Data info:\n",
      "<class 'pandas.core.frame.DataFrame'>\n",
      "Index: 755405 entries, 0 to 412263\n",
      "Data columns (total 5 columns):\n",
      " #   Column        Non-Null Count   Dtype \n",
      "---  ------        --------------   ----- \n",
      " 0   client_id     755405 non-null  int64 \n",
      " 1   visitor_id    755405 non-null  object\n",
      " 2   visit_id      755405 non-null  object\n",
      " 3   process_step  755405 non-null  object\n",
      " 4   date_time     755405 non-null  object\n",
      "dtypes: int64(1), object(4)\n",
      "memory usage: 34.6+ MB\n",
      "None\n",
      "Null values in Web Data:\n",
      "client_id       0\n",
      "visitor_id      0\n",
      "visit_id        0\n",
      "process_step    0\n",
      "date_time       0\n",
      "dtype: int64\n"
     ]
    }
   ],
   "source": [
    "# Check web data info and nulls\n",
    "pf.check_data_info(df_wd_merged, 'Web Data')"
   ]
  },
  {
   "cell_type": "code",
   "execution_count": 235,
   "id": "62f29cf0",
   "metadata": {},
   "outputs": [
    {
     "name": "stdout",
     "output_type": "stream",
     "text": [
      "Dataframe Demo Data info:\n",
      "<class 'pandas.core.frame.DataFrame'>\n",
      "RangeIndex: 70609 entries, 0 to 70608\n",
      "Data columns (total 9 columns):\n",
      " #   Column            Non-Null Count  Dtype  \n",
      "---  ------            --------------  -----  \n",
      " 0   client_id         70609 non-null  int64  \n",
      " 1   clnt_tenure_yr    70595 non-null  float64\n",
      " 2   clnt_tenure_mnth  70595 non-null  float64\n",
      " 3   clnt_age          70594 non-null  float64\n",
      " 4   gendr             70595 non-null  object \n",
      " 5   num_accts         70595 non-null  float64\n",
      " 6   bal               70595 non-null  float64\n",
      " 7   calls_6_mnth      70595 non-null  float64\n",
      " 8   logons_6_mnth     70595 non-null  float64\n",
      "dtypes: float64(7), int64(1), object(1)\n",
      "memory usage: 4.8+ MB\n",
      "None\n",
      "Null values in Demo Data:\n",
      "client_id            0\n",
      "clnt_tenure_yr      14\n",
      "clnt_tenure_mnth    14\n",
      "clnt_age            15\n",
      "gendr               14\n",
      "num_accts           14\n",
      "bal                 14\n",
      "calls_6_mnth        14\n",
      "logons_6_mnth       14\n",
      "dtype: int64\n"
     ]
    }
   ],
   "source": [
    "# Check demo data info and nulls\n",
    "pf.check_data_info(df_demo, 'Demo Data')"
   ]
  },
  {
   "cell_type": "code",
   "execution_count": 236,
   "id": "c4b9d644",
   "metadata": {},
   "outputs": [
    {
     "name": "stdout",
     "output_type": "stream",
     "text": [
      "Dataframe Experiment Clients info:\n",
      "<class 'pandas.core.frame.DataFrame'>\n",
      "RangeIndex: 70609 entries, 0 to 70608\n",
      "Data columns (total 2 columns):\n",
      " #   Column     Non-Null Count  Dtype \n",
      "---  ------     --------------  ----- \n",
      " 0   client_id  70609 non-null  int64 \n",
      " 1   Variation  50500 non-null  object\n",
      "dtypes: int64(1), object(1)\n",
      "memory usage: 1.1+ MB\n",
      "None\n",
      "Null values in Experiment Clients:\n",
      "client_id        0\n",
      "Variation    20109\n",
      "dtype: int64\n"
     ]
    }
   ],
   "source": [
    "# Check experiment clients data info and nulls\n",
    "pf.check_data_info(df_exp_clients, 'Experiment Clients')"
   ]
  },
  {
   "cell_type": "markdown",
   "id": "3eaff60a",
   "metadata": {},
   "source": [
    "#### Show graphics to take decissions"
   ]
  },
  {
   "cell_type": "markdown",
   "id": "83864d74",
   "metadata": {},
   "source": [
    "Merge experiment clients with demo to show clients with experiment complete and with/without data."
   ]
  },
  {
   "cell_type": "code",
   "execution_count": 237,
   "id": "2689e9cb",
   "metadata": {},
   "outputs": [
    {
     "data": {
      "text/html": [
       "<div>\n",
       "<style scoped>\n",
       "    .dataframe tbody tr th:only-of-type {\n",
       "        vertical-align: middle;\n",
       "    }\n",
       "\n",
       "    .dataframe tbody tr th {\n",
       "        vertical-align: top;\n",
       "    }\n",
       "\n",
       "    .dataframe thead th {\n",
       "        text-align: right;\n",
       "    }\n",
       "</style>\n",
       "<table border=\"1\" class=\"dataframe\">\n",
       "  <thead>\n",
       "    <tr style=\"text-align: right;\">\n",
       "      <th></th>\n",
       "      <th>client_id</th>\n",
       "      <th>Variation</th>\n",
       "      <th>clnt_tenure_yr</th>\n",
       "      <th>clnt_tenure_mnth</th>\n",
       "      <th>clnt_age</th>\n",
       "      <th>gendr</th>\n",
       "      <th>num_accts</th>\n",
       "      <th>bal</th>\n",
       "      <th>calls_6_mnth</th>\n",
       "      <th>logons_6_mnth</th>\n",
       "    </tr>\n",
       "  </thead>\n",
       "  <tbody>\n",
       "    <tr>\n",
       "      <th>0</th>\n",
       "      <td>9988021</td>\n",
       "      <td>Test</td>\n",
       "      <td>5.0</td>\n",
       "      <td>64.0</td>\n",
       "      <td>79.0</td>\n",
       "      <td>U</td>\n",
       "      <td>2.0</td>\n",
       "      <td>189023.86</td>\n",
       "      <td>1.0</td>\n",
       "      <td>4.0</td>\n",
       "    </tr>\n",
       "    <tr>\n",
       "      <th>1</th>\n",
       "      <td>8320017</td>\n",
       "      <td>Test</td>\n",
       "      <td>22.0</td>\n",
       "      <td>274.0</td>\n",
       "      <td>34.5</td>\n",
       "      <td>M</td>\n",
       "      <td>2.0</td>\n",
       "      <td>36001.90</td>\n",
       "      <td>5.0</td>\n",
       "      <td>8.0</td>\n",
       "    </tr>\n",
       "    <tr>\n",
       "      <th>2</th>\n",
       "      <td>4033851</td>\n",
       "      <td>Control</td>\n",
       "      <td>12.0</td>\n",
       "      <td>149.0</td>\n",
       "      <td>63.5</td>\n",
       "      <td>M</td>\n",
       "      <td>2.0</td>\n",
       "      <td>142642.26</td>\n",
       "      <td>5.0</td>\n",
       "      <td>8.0</td>\n",
       "    </tr>\n",
       "    <tr>\n",
       "      <th>3</th>\n",
       "      <td>1982004</td>\n",
       "      <td>Test</td>\n",
       "      <td>6.0</td>\n",
       "      <td>80.0</td>\n",
       "      <td>44.5</td>\n",
       "      <td>U</td>\n",
       "      <td>2.0</td>\n",
       "      <td>30231.76</td>\n",
       "      <td>1.0</td>\n",
       "      <td>4.0</td>\n",
       "    </tr>\n",
       "    <tr>\n",
       "      <th>4</th>\n",
       "      <td>9294070</td>\n",
       "      <td>Control</td>\n",
       "      <td>5.0</td>\n",
       "      <td>70.0</td>\n",
       "      <td>29.0</td>\n",
       "      <td>U</td>\n",
       "      <td>2.0</td>\n",
       "      <td>34254.54</td>\n",
       "      <td>0.0</td>\n",
       "      <td>3.0</td>\n",
       "    </tr>\n",
       "    <tr>\n",
       "      <th>...</th>\n",
       "      <td>...</td>\n",
       "      <td>...</td>\n",
       "      <td>...</td>\n",
       "      <td>...</td>\n",
       "      <td>...</td>\n",
       "      <td>...</td>\n",
       "      <td>...</td>\n",
       "      <td>...</td>\n",
       "      <td>...</td>\n",
       "      <td>...</td>\n",
       "    </tr>\n",
       "    <tr>\n",
       "      <th>70604</th>\n",
       "      <td>2443347</td>\n",
       "      <td>NaN</td>\n",
       "      <td>17.0</td>\n",
       "      <td>204.0</td>\n",
       "      <td>52.5</td>\n",
       "      <td>M</td>\n",
       "      <td>3.0</td>\n",
       "      <td>164693.48</td>\n",
       "      <td>7.0</td>\n",
       "      <td>7.0</td>\n",
       "    </tr>\n",
       "    <tr>\n",
       "      <th>70605</th>\n",
       "      <td>8788427</td>\n",
       "      <td>NaN</td>\n",
       "      <td>10.0</td>\n",
       "      <td>121.0</td>\n",
       "      <td>59.5</td>\n",
       "      <td>M</td>\n",
       "      <td>2.0</td>\n",
       "      <td>203149.13</td>\n",
       "      <td>3.0</td>\n",
       "      <td>3.0</td>\n",
       "    </tr>\n",
       "    <tr>\n",
       "      <th>70606</th>\n",
       "      <td>266828</td>\n",
       "      <td>NaN</td>\n",
       "      <td>14.0</td>\n",
       "      <td>172.0</td>\n",
       "      <td>60.5</td>\n",
       "      <td>M</td>\n",
       "      <td>2.0</td>\n",
       "      <td>1135068.68</td>\n",
       "      <td>7.0</td>\n",
       "      <td>7.0</td>\n",
       "    </tr>\n",
       "    <tr>\n",
       "      <th>70607</th>\n",
       "      <td>1266421</td>\n",
       "      <td>NaN</td>\n",
       "      <td>13.0</td>\n",
       "      <td>164.0</td>\n",
       "      <td>33.0</td>\n",
       "      <td>M</td>\n",
       "      <td>3.0</td>\n",
       "      <td>27701.79</td>\n",
       "      <td>2.0</td>\n",
       "      <td>3.0</td>\n",
       "    </tr>\n",
       "    <tr>\n",
       "      <th>70608</th>\n",
       "      <td>9895983</td>\n",
       "      <td>NaN</td>\n",
       "      <td>10.0</td>\n",
       "      <td>121.0</td>\n",
       "      <td>49.0</td>\n",
       "      <td>M</td>\n",
       "      <td>2.0</td>\n",
       "      <td>97748.22</td>\n",
       "      <td>2.0</td>\n",
       "      <td>2.0</td>\n",
       "    </tr>\n",
       "  </tbody>\n",
       "</table>\n",
       "<p>70609 rows × 10 columns</p>\n",
       "</div>"
      ],
      "text/plain": [
       "       client_id Variation  clnt_tenure_yr  clnt_tenure_mnth  clnt_age gendr  \\\n",
       "0        9988021      Test             5.0              64.0      79.0     U   \n",
       "1        8320017      Test            22.0             274.0      34.5     M   \n",
       "2        4033851   Control            12.0             149.0      63.5     M   \n",
       "3        1982004      Test             6.0              80.0      44.5     U   \n",
       "4        9294070   Control             5.0              70.0      29.0     U   \n",
       "...          ...       ...             ...               ...       ...   ...   \n",
       "70604    2443347       NaN            17.0             204.0      52.5     M   \n",
       "70605    8788427       NaN            10.0             121.0      59.5     M   \n",
       "70606     266828       NaN            14.0             172.0      60.5     M   \n",
       "70607    1266421       NaN            13.0             164.0      33.0     M   \n",
       "70608    9895983       NaN            10.0             121.0      49.0     M   \n",
       "\n",
       "       num_accts         bal  calls_6_mnth  logons_6_mnth  \n",
       "0            2.0   189023.86           1.0            4.0  \n",
       "1            2.0    36001.90           5.0            8.0  \n",
       "2            2.0   142642.26           5.0            8.0  \n",
       "3            2.0    30231.76           1.0            4.0  \n",
       "4            2.0    34254.54           0.0            3.0  \n",
       "...          ...         ...           ...            ...  \n",
       "70604        3.0   164693.48           7.0            7.0  \n",
       "70605        2.0   203149.13           3.0            3.0  \n",
       "70606        2.0  1135068.68           7.0            7.0  \n",
       "70607        3.0    27701.79           2.0            3.0  \n",
       "70608        2.0    97748.22           2.0            2.0  \n",
       "\n",
       "[70609 rows x 10 columns]"
      ]
     },
     "execution_count": 237,
     "metadata": {},
     "output_type": "execute_result"
    }
   ],
   "source": [
    "# Merge dataframe experiment clients with dataframe demo \n",
    "df_exp_clients_demo = pf.pd.merge(df_exp_clients, df_demo, on='client_id', how='inner')\n",
    "df_exp_clients_demo"
   ]
  },
  {
   "cell_type": "code",
   "execution_count": 238,
   "id": "21a854ac",
   "metadata": {},
   "outputs": [
    {
     "data": {
      "image/png": "[encoded data removed]",
      "text/plain": [
       "<Figure size 700x700 with 1 Axes>"
      ]
     },
     "metadata": {},
     "output_type": "display_data"
    }
   ],
   "source": [
    "import matplotlib.pyplot as plt\n",
    "\n",
    "# Convert client_id of both DataFrames to sets\n",
    "clients_demo = set(df_exp_clients_demo['client_id'])\n",
    "clients_wd_merged = set(df_wd_merged['client_id'])\n",
    "\n",
    "# 1. Clients who have taken the test (with data)\n",
    "clients_realized = clients_demo.intersection(clients_wd_merged)\n",
    "\n",
    "# 2. Clients who have taken the test but are not in df_demo\n",
    "clients_not_in_demo = clients_wd_merged - clients_demo\n",
    "\n",
    "# Create a dictionary with the results (only those who have taken the test)\n",
    "result = {\n",
    "    'Taken the test (with data)': len(clients_realized),\n",
    "    'Taken the test (without data)': len(clients_not_in_demo)\n",
    "}\n",
    "\n",
    "# Create the pie chart\n",
    "plt.figure(figsize=(7, 7))\n",
    "plt.pie(result.values(), labels=result.keys(), autopct=lambda pct: pf.show_pct(pct, list(result.values())), \n",
    "        startangle=90, colors=['#66b3ff', '#99ff99'])\n",
    "plt.title('Distribution of clients who have taken the test')\n",
    "plt.show()"
   ]
  },
  {
   "cell_type": "markdown",
   "id": "581cf218",
   "metadata": {},
   "source": [
    "Check experiment clients with data Variation counts."
   ]
  },
  {
   "cell_type": "code",
   "execution_count": 239,
   "id": "1385e18e",
   "metadata": {},
   "outputs": [
    {
     "data": {
      "image/png": "[encoded data removed]",
      "text/plain": [
       "<Figure size 700x700 with 1 Axes>"
      ]
     },
     "metadata": {},
     "output_type": "display_data"
    }
   ],
   "source": [
    "import matplotlib.pyplot as plt\n",
    "\n",
    "# Filter by clients who have taken the test and have \"Variation\"\n",
    "filtered_exp_clients = df_exp_clients_demo[df_exp_clients_demo['client_id'].isin(clients_realized)]\n",
    "\n",
    "# Count the number of clients by category in \"Variation\"\n",
    "variation_counts = filtered_exp_clients['Variation'].value_counts(dropna=False)\n",
    "\n",
    "# Convert NaN to a readable label\n",
    "variation_counts.index = variation_counts.index.fillna('NaN')\n",
    "\n",
    "# Create the pie chart\n",
    "plt.figure(figsize=(7, 7))\n",
    "plt.pie(variation_counts.values, labels=variation_counts.index, autopct=lambda pct: pf.show_pct(pct, variation_counts.values), \n",
    "        startangle=90, colors=['#66b3ff', '#99ff99', '#ffcc99'])  # You can adjust the colors as you prefer\n",
    "plt.title('Client distribution by category in \"Variation\"')\n",
    "plt.show()\n"
   ]
  },
  {
   "cell_type": "markdown",
   "id": "ac858743",
   "metadata": {},
   "source": [
    "We can see that we have 28.5% of clients with \"NaN\" in \"Variation\", so we don't know which experiment they are assigned to, so we will clean that up later."
   ]
  },
  {
   "cell_type": "markdown",
   "id": "9dc9cdda",
   "metadata": {},
   "source": [
    "## Data Cleaning"
   ]
  },
  {
   "cell_type": "markdown",
   "id": "6b098563",
   "metadata": {},
   "source": [
    "#### Clean duplicate values"
   ]
  },
  {
   "cell_type": "markdown",
   "id": "9fdcf3a4",
   "metadata": {},
   "source": [
    "##### Check duplicated values"
   ]
  },
  {
   "cell_type": "code",
   "execution_count": 240,
   "id": "a5aa1e7e",
   "metadata": {},
   "outputs": [
    {
     "data": {
      "text/plain": [
       "10764"
      ]
     },
     "execution_count": 240,
     "metadata": {},
     "output_type": "execute_result"
    }
   ],
   "source": [
    "# Check duplicates from Web Data\n",
    "df_wd_merged.duplicated().sum()"
   ]
  },
  {
   "cell_type": "code",
   "execution_count": 241,
   "id": "d0d1afb0",
   "metadata": {},
   "outputs": [
    {
     "data": {
      "text/plain": [
       "0"
      ]
     },
     "execution_count": 241,
     "metadata": {},
     "output_type": "execute_result"
    }
   ],
   "source": [
    "# Check duplicates from Demo\n",
    "df_demo.duplicated().sum()"
   ]
  },
  {
   "cell_type": "code",
   "execution_count": 242,
   "id": "96460d2c",
   "metadata": {},
   "outputs": [
    {
     "data": {
      "text/plain": [
       "0"
      ]
     },
     "execution_count": 242,
     "metadata": {},
     "output_type": "execute_result"
    }
   ],
   "source": [
    "# Check duplicates from Experiment clients\n",
    "df_exp_clients.duplicated().sum()"
   ]
  },
  {
   "cell_type": "markdown",
   "id": "5ee07d46",
   "metadata": {},
   "source": [
    "##### Clean duplicated values"
   ]
  },
  {
   "cell_type": "code",
   "execution_count": 243,
   "id": "e3bad84c",
   "metadata": {},
   "outputs": [
    {
     "data": {
      "text/html": [
       "<div>\n",
       "<style scoped>\n",
       "    .dataframe tbody tr th:only-of-type {\n",
       "        vertical-align: middle;\n",
       "    }\n",
       "\n",
       "    .dataframe tbody tr th {\n",
       "        vertical-align: top;\n",
       "    }\n",
       "\n",
       "    .dataframe thead th {\n",
       "        text-align: right;\n",
       "    }\n",
       "</style>\n",
       "<table border=\"1\" class=\"dataframe\">\n",
       "  <thead>\n",
       "    <tr style=\"text-align: right;\">\n",
       "      <th></th>\n",
       "      <th>client_id</th>\n",
       "      <th>visitor_id</th>\n",
       "      <th>visit_id</th>\n",
       "      <th>process_step</th>\n",
       "      <th>date_time</th>\n",
       "    </tr>\n",
       "  </thead>\n",
       "  <tbody>\n",
       "    <tr>\n",
       "      <th>0</th>\n",
       "      <td>9988021</td>\n",
       "      <td>580560515_7732621733</td>\n",
       "      <td>781255054_21935453173_531117</td>\n",
       "      <td>step_3</td>\n",
       "      <td>2017-04-17 15:27:07</td>\n",
       "    </tr>\n",
       "    <tr>\n",
       "      <th>1</th>\n",
       "      <td>9988021</td>\n",
       "      <td>580560515_7732621733</td>\n",
       "      <td>781255054_21935453173_531117</td>\n",
       "      <td>step_2</td>\n",
       "      <td>2017-04-17 15:26:51</td>\n",
       "    </tr>\n",
       "    <tr>\n",
       "      <th>2</th>\n",
       "      <td>9988021</td>\n",
       "      <td>580560515_7732621733</td>\n",
       "      <td>781255054_21935453173_531117</td>\n",
       "      <td>step_3</td>\n",
       "      <td>2017-04-17 15:19:22</td>\n",
       "    </tr>\n",
       "    <tr>\n",
       "      <th>3</th>\n",
       "      <td>9988021</td>\n",
       "      <td>580560515_7732621733</td>\n",
       "      <td>781255054_21935453173_531117</td>\n",
       "      <td>step_2</td>\n",
       "      <td>2017-04-17 15:19:13</td>\n",
       "    </tr>\n",
       "    <tr>\n",
       "      <th>4</th>\n",
       "      <td>9988021</td>\n",
       "      <td>580560515_7732621733</td>\n",
       "      <td>781255054_21935453173_531117</td>\n",
       "      <td>step_3</td>\n",
       "      <td>2017-04-17 15:18:04</td>\n",
       "    </tr>\n",
       "    <tr>\n",
       "      <th>...</th>\n",
       "      <td>...</td>\n",
       "      <td>...</td>\n",
       "      <td>...</td>\n",
       "      <td>...</td>\n",
       "      <td>...</td>\n",
       "    </tr>\n",
       "    <tr>\n",
       "      <th>412259</th>\n",
       "      <td>9668240</td>\n",
       "      <td>388766751_9038881013</td>\n",
       "      <td>922267647_3096648104_968866</td>\n",
       "      <td>start</td>\n",
       "      <td>2017-05-24 18:46:10</td>\n",
       "    </tr>\n",
       "    <tr>\n",
       "      <th>412260</th>\n",
       "      <td>9668240</td>\n",
       "      <td>388766751_9038881013</td>\n",
       "      <td>922267647_3096648104_968866</td>\n",
       "      <td>start</td>\n",
       "      <td>2017-05-24 18:45:29</td>\n",
       "    </tr>\n",
       "    <tr>\n",
       "      <th>412261</th>\n",
       "      <td>9668240</td>\n",
       "      <td>388766751_9038881013</td>\n",
       "      <td>922267647_3096648104_968866</td>\n",
       "      <td>step_1</td>\n",
       "      <td>2017-05-24 18:44:51</td>\n",
       "    </tr>\n",
       "    <tr>\n",
       "      <th>412262</th>\n",
       "      <td>9668240</td>\n",
       "      <td>388766751_9038881013</td>\n",
       "      <td>922267647_3096648104_968866</td>\n",
       "      <td>start</td>\n",
       "      <td>2017-05-24 18:44:34</td>\n",
       "    </tr>\n",
       "    <tr>\n",
       "      <th>412263</th>\n",
       "      <td>674799</td>\n",
       "      <td>947159805_81558194550</td>\n",
       "      <td>86152093_47511127657_716022</td>\n",
       "      <td>start</td>\n",
       "      <td>2017-06-03 12:17:09</td>\n",
       "    </tr>\n",
       "  </tbody>\n",
       "</table>\n",
       "<p>744641 rows × 5 columns</p>\n",
       "</div>"
      ],
      "text/plain": [
       "        client_id             visitor_id                      visit_id  \\\n",
       "0         9988021   580560515_7732621733  781255054_21935453173_531117   \n",
       "1         9988021   580560515_7732621733  781255054_21935453173_531117   \n",
       "2         9988021   580560515_7732621733  781255054_21935453173_531117   \n",
       "3         9988021   580560515_7732621733  781255054_21935453173_531117   \n",
       "4         9988021   580560515_7732621733  781255054_21935453173_531117   \n",
       "...           ...                    ...                           ...   \n",
       "412259    9668240   388766751_9038881013   922267647_3096648104_968866   \n",
       "412260    9668240   388766751_9038881013   922267647_3096648104_968866   \n",
       "412261    9668240   388766751_9038881013   922267647_3096648104_968866   \n",
       "412262    9668240   388766751_9038881013   922267647_3096648104_968866   \n",
       "412263     674799  947159805_81558194550   86152093_47511127657_716022   \n",
       "\n",
       "       process_step            date_time  \n",
       "0            step_3  2017-04-17 15:27:07  \n",
       "1            step_2  2017-04-17 15:26:51  \n",
       "2            step_3  2017-04-17 15:19:22  \n",
       "3            step_2  2017-04-17 15:19:13  \n",
       "4            step_3  2017-04-17 15:18:04  \n",
       "...             ...                  ...  \n",
       "412259        start  2017-05-24 18:46:10  \n",
       "412260        start  2017-05-24 18:45:29  \n",
       "412261       step_1  2017-05-24 18:44:51  \n",
       "412262        start  2017-05-24 18:44:34  \n",
       "412263        start  2017-06-03 12:17:09  \n",
       "\n",
       "[744641 rows x 5 columns]"
      ]
     },
     "execution_count": 243,
     "metadata": {},
     "output_type": "execute_result"
    }
   ],
   "source": [
    "# Check duplicates from Web Data\n",
    "df_wd_merged = df_wd_merged.drop_duplicates()\n",
    "df_wd_merged"
   ]
  },
  {
   "cell_type": "markdown",
   "id": "77907d3b",
   "metadata": {},
   "source": [
    "#### Clean null values\n",
    "As we saw in the Exploration Data section, only the \"Demo\" and \"Experiment clients\" dataframes had null values."
   ]
  },
  {
   "cell_type": "markdown",
   "id": "d8f4ee69",
   "metadata": {},
   "source": [
    "##### Demo\n",
    "Regarding \"Demo\" we are going to fill in the missing values ​​with averages of the other columns, since they are all numeric, except gender that we assing U (from Undefined) for NaN and \"X\" values, so as not to lose the data in the experiment dataframe."
   ]
  },
  {
   "cell_type": "code",
   "execution_count": 244,
   "id": "b0ef8cb2",
   "metadata": {},
   "outputs": [],
   "source": [
    "# Replace null values in the 'gendr' column with 'U' and the values 'X' with 'U'\n",
    "df_demo['gendr'] = df_demo['gendr'].fillna('U').replace('X', 'U')\n",
    "\n",
    "# Replace null values in the other columns with the mean of each column\n",
    "columns_to_fill = ['clnt_tenure_yr', 'clnt_tenure_mnth', 'clnt_age', 'num_accts', 'bal', 'calls_6_mnth', 'logons_6_mnth']\n",
    "for column in columns_to_fill:\n",
    "    df_demo[column] = df_demo[column].fillna(df_demo[column].mean())\n"
   ]
  },
  {
   "cell_type": "markdown",
   "id": "8de2591e",
   "metadata": {},
   "source": [
    "##### Experiment clients\n",
    "Regarding \"Experiment clients\" we are going to delete the rows that have null values ​​in the \"Variation\" column."
   ]
  },
  {
   "cell_type": "code",
   "execution_count": 245,
   "id": "cda66a2a",
   "metadata": {},
   "outputs": [],
   "source": [
    "df_exp_clients = df_exp_clients.dropna(subset=[\"Variation\"])"
   ]
  },
  {
   "cell_type": "markdown",
   "id": "0926f917",
   "metadata": {},
   "source": [
    "##### Drop client_id in \"Demo\" with no experiment type assign (Variation = NaN)"
   ]
  },
  {
   "cell_type": "code",
   "execution_count": 246,
   "id": "a6253613",
   "metadata": {},
   "outputs": [],
   "source": [
    "# Filter rows from df_demo whose client_id is present in df_exp_clients\n",
    "df_demo = df_demo[df_demo['client_id'].isin(df_exp_clients['client_id'])]"
   ]
  },
  {
   "cell_type": "markdown",
   "id": "ae4a6164",
   "metadata": {},
   "source": [
    "#### Correct data types"
   ]
  },
  {
   "cell_type": "markdown",
   "id": "5c4f3862",
   "metadata": {},
   "source": [
    "##### Round values: Balance values to 2 decimal in \"Demo\""
   ]
  },
  {
   "cell_type": "code",
   "execution_count": 247,
   "id": "0d2fe609",
   "metadata": {},
   "outputs": [],
   "source": [
    "# Limit values ​​in column 'bal' to two decimal places using .loc\n",
    "df_demo.loc[:, 'bal'] = df_demo['bal'].round(2)"
   ]
  },
  {
   "cell_type": "markdown",
   "id": "59afa180",
   "metadata": {},
   "source": [
    "##### Correct Data time in \"Web Data\""
   ]
  },
  {
   "cell_type": "code",
   "execution_count": 248,
   "id": "c84bec2b",
   "metadata": {},
   "outputs": [],
   "source": [
    "# Transform 'date_time' column to correct date time format in \"Web Data\"\n",
    "df_wd_merged.loc[:, 'date_time'] = pf.pd.to_datetime(df_wd_merged['date_time'], errors='coerce')"
   ]
  },
  {
   "cell_type": "markdown",
   "id": "ce2ac8ec",
   "metadata": {},
   "source": [
    "#### Merge \"Experiment clients\" and \"Demo\" in a new dataframe \"Experiment Clients Demo\"\n",
    "With these new dataframe we have unique *client_id* with experiment *variation* and demo data. A total of 50.500 clients."
   ]
  },
  {
   "cell_type": "code",
   "execution_count": 249,
   "id": "51880f07",
   "metadata": {},
   "outputs": [],
   "source": [
    "# Merge cleaned dataframe experiment clients with dataframe demo \n",
    "df_exp_clients_demo = pf.pd.merge(df_exp_clients, df_demo, on='client_id', how='inner')\n",
    "\n",
    "# Create the new .csv with dataframe \"Experiments Clients Demo\"\n",
    "df_exp_clients_demo.to_csv(\"csv/cleaned/experiment_clients_demo.csv\")"
   ]
  },
  {
   "cell_type": "markdown",
   "id": "ceb174cc",
   "metadata": {},
   "source": [
    "#### Clean \"Web Data\" with client_id in \"Experiment Clients Demo\""
   ]
  },
  {
   "cell_type": "code",
   "execution_count": 250,
   "id": "06f14840",
   "metadata": {},
   "outputs": [
    {
     "data": {
      "text/html": [
       "<div>\n",
       "<style scoped>\n",
       "    .dataframe tbody tr th:only-of-type {\n",
       "        vertical-align: middle;\n",
       "    }\n",
       "\n",
       "    .dataframe tbody tr th {\n",
       "        vertical-align: top;\n",
       "    }\n",
       "\n",
       "    .dataframe thead th {\n",
       "        text-align: right;\n",
       "    }\n",
       "</style>\n",
       "<table border=\"1\" class=\"dataframe\">\n",
       "  <thead>\n",
       "    <tr style=\"text-align: right;\">\n",
       "      <th></th>\n",
       "      <th>client_id</th>\n",
       "      <th>visitor_id</th>\n",
       "      <th>visit_id</th>\n",
       "      <th>process_step</th>\n",
       "      <th>date_time</th>\n",
       "    </tr>\n",
       "  </thead>\n",
       "  <tbody>\n",
       "    <tr>\n",
       "      <th>0</th>\n",
       "      <td>9988021</td>\n",
       "      <td>580560515_7732621733</td>\n",
       "      <td>781255054_21935453173_531117</td>\n",
       "      <td>step_3</td>\n",
       "      <td>2017-04-17 15:27:07</td>\n",
       "    </tr>\n",
       "    <tr>\n",
       "      <th>1</th>\n",
       "      <td>9988021</td>\n",
       "      <td>580560515_7732621733</td>\n",
       "      <td>781255054_21935453173_531117</td>\n",
       "      <td>step_2</td>\n",
       "      <td>2017-04-17 15:26:51</td>\n",
       "    </tr>\n",
       "    <tr>\n",
       "      <th>2</th>\n",
       "      <td>9988021</td>\n",
       "      <td>580560515_7732621733</td>\n",
       "      <td>781255054_21935453173_531117</td>\n",
       "      <td>step_3</td>\n",
       "      <td>2017-04-17 15:19:22</td>\n",
       "    </tr>\n",
       "    <tr>\n",
       "      <th>3</th>\n",
       "      <td>9988021</td>\n",
       "      <td>580560515_7732621733</td>\n",
       "      <td>781255054_21935453173_531117</td>\n",
       "      <td>step_2</td>\n",
       "      <td>2017-04-17 15:19:13</td>\n",
       "    </tr>\n",
       "    <tr>\n",
       "      <th>4</th>\n",
       "      <td>9988021</td>\n",
       "      <td>580560515_7732621733</td>\n",
       "      <td>781255054_21935453173_531117</td>\n",
       "      <td>step_3</td>\n",
       "      <td>2017-04-17 15:18:04</td>\n",
       "    </tr>\n",
       "    <tr>\n",
       "      <th>...</th>\n",
       "      <td>...</td>\n",
       "      <td>...</td>\n",
       "      <td>...</td>\n",
       "      <td>...</td>\n",
       "      <td>...</td>\n",
       "    </tr>\n",
       "    <tr>\n",
       "      <th>294346</th>\n",
       "      <td>1574008</td>\n",
       "      <td>117364417_77840596075</td>\n",
       "      <td>528720790_71583064618_169151</td>\n",
       "      <td>start</td>\n",
       "      <td>2017-05-06 23:43:27</td>\n",
       "    </tr>\n",
       "    <tr>\n",
       "      <th>294391</th>\n",
       "      <td>2908510</td>\n",
       "      <td>814969699_90652851448</td>\n",
       "      <td>562606085_36368381773_92090</td>\n",
       "      <td>start</td>\n",
       "      <td>2017-05-10 22:57:17</td>\n",
       "    </tr>\n",
       "    <tr>\n",
       "      <th>294392</th>\n",
       "      <td>2908510</td>\n",
       "      <td>814969699_90652851448</td>\n",
       "      <td>562606085_36368381773_92090</td>\n",
       "      <td>step_2</td>\n",
       "      <td>2017-05-10 22:56:31</td>\n",
       "    </tr>\n",
       "    <tr>\n",
       "      <th>294393</th>\n",
       "      <td>2908510</td>\n",
       "      <td>814969699_90652851448</td>\n",
       "      <td>562606085_36368381773_92090</td>\n",
       "      <td>step_1</td>\n",
       "      <td>2017-05-10 22:56:23</td>\n",
       "    </tr>\n",
       "    <tr>\n",
       "      <th>294394</th>\n",
       "      <td>2908510</td>\n",
       "      <td>814969699_90652851448</td>\n",
       "      <td>562606085_36368381773_92090</td>\n",
       "      <td>start</td>\n",
       "      <td>2017-05-10 22:56:20</td>\n",
       "    </tr>\n",
       "  </tbody>\n",
       "</table>\n",
       "<p>317235 rows × 5 columns</p>\n",
       "</div>"
      ],
      "text/plain": [
       "        client_id             visitor_id                      visit_id  \\\n",
       "0         9988021   580560515_7732621733  781255054_21935453173_531117   \n",
       "1         9988021   580560515_7732621733  781255054_21935453173_531117   \n",
       "2         9988021   580560515_7732621733  781255054_21935453173_531117   \n",
       "3         9988021   580560515_7732621733  781255054_21935453173_531117   \n",
       "4         9988021   580560515_7732621733  781255054_21935453173_531117   \n",
       "...           ...                    ...                           ...   \n",
       "294346    1574008  117364417_77840596075  528720790_71583064618_169151   \n",
       "294391    2908510  814969699_90652851448   562606085_36368381773_92090   \n",
       "294392    2908510  814969699_90652851448   562606085_36368381773_92090   \n",
       "294393    2908510  814969699_90652851448   562606085_36368381773_92090   \n",
       "294394    2908510  814969699_90652851448   562606085_36368381773_92090   \n",
       "\n",
       "       process_step            date_time  \n",
       "0            step_3  2017-04-17 15:27:07  \n",
       "1            step_2  2017-04-17 15:26:51  \n",
       "2            step_3  2017-04-17 15:19:22  \n",
       "3            step_2  2017-04-17 15:19:13  \n",
       "4            step_3  2017-04-17 15:18:04  \n",
       "...             ...                  ...  \n",
       "294346        start  2017-05-06 23:43:27  \n",
       "294391        start  2017-05-10 22:57:17  \n",
       "294392       step_2  2017-05-10 22:56:31  \n",
       "294393       step_1  2017-05-10 22:56:23  \n",
       "294394        start  2017-05-10 22:56:20  \n",
       "\n",
       "[317235 rows x 5 columns]"
      ]
     },
     "execution_count": 250,
     "metadata": {},
     "output_type": "execute_result"
    }
   ],
   "source": [
    "# Filter rows in df_wd_merged where client_id is present in df_exp_clients_demo\n",
    "df_wd_merged = df_wd_merged[df_wd_merged['client_id'].isin(df_exp_clients_demo['client_id'])]\n",
    "df_wd_merged"
   ]
  },
  {
   "cell_type": "markdown",
   "id": "97841726",
   "metadata": {},
   "source": [
    "## Client Behavior Analysis"
   ]
  },
  {
   "cell_type": "markdown",
   "id": "0097cf62",
   "metadata": {},
   "source": [
    "### Total completed steps of clients in experiment."
   ]
  },
  {
   "cell_type": "code",
   "execution_count": 251,
   "id": "7f837add",
   "metadata": {},
   "outputs": [
    {
     "data": {
      "image/png": "[encoded data removed]",
      "text/plain": [
       "<Figure size 700x700 with 1 Axes>"
      ]
     },
     "metadata": {},
     "output_type": "display_data"
    }
   ],
   "source": [
    "import matplotlib.pyplot as plt\n",
    "step_counts = df_wd_merged['process_step'].value_counts()\n",
    "\n",
    "# Create the pie chart\n",
    "plt.figure(figsize=(7, 7))\n",
    "plt.pie(\n",
    "    step_counts,  # Use the step_counts Series directly\n",
    "    labels=step_counts.index,  # Use the index for labels\n",
    "    autopct=lambda pct: pf.show_pct(pct, step_counts.values),  # Pass values for absolute calculations\n",
    "    startangle=90,\n",
    "    colors=['#66b3ff', '#99ff99', '#ff9999', '#ffcc99', '#c2c2f0']\n",
    ")\n",
    "plt.title('Completed steps')\n",
    "plt.show()"
   ]
  },
  {
   "cell_type": "markdown",
   "id": "a96ed423",
   "metadata": {},
   "source": [
    "### Steps per age"
   ]
  },
  {
   "cell_type": "code",
   "execution_count": 252,
   "id": "b4e892ba",
   "metadata": {},
   "outputs": [
    {
     "name": "stdout",
     "output_type": "stream",
     "text": [
      "[48264, 56672, 68210, 101153, 42936]\n",
      "F-statistic: 46.206429210689905, p-value: 7.03799623113943e-39\n"
     ]
    },
    {
     "data": {
      "image/png": "[encoded data removed]",
      "text/plain": [
       "<Figure size 1000x600 with 1 Axes>"
      ]
     },
     "metadata": {},
     "output_type": "display_data"
    }
   ],
   "source": [
    "import pandas as pd\n",
    "import scipy.stats as stats\n",
    "import seaborn as sns\n",
    "import matplotlib.pyplot as plt\n",
    "\n",
    "# Merge df_wd_merged with df_exp_clients_demo based on 'client_id'\n",
    "df_combined = df_wd_merged.merge(df_exp_clients_demo[['client_id', 'clnt_age']], on='client_id', how='left')\n",
    "\n",
    "# Create a list of lists of ages by each process step\n",
    "ages_per_step = [df_combined[df_combined['process_step'] == step]['clnt_age'].dropna().tolist() \n",
    "                 for step in df_combined['process_step'].unique()]\n",
    "\n",
    "# Check the length of the age lists\n",
    "print([len(age) for age in ages_per_step])  # You should have at least 2 non-empty lists\n",
    "\n",
    "# Verify there are at least two groups before performing ANOVA\n",
    "if len(ages_per_step) >= 2 and all(len(age) > 0 for age in ages_per_step):\n",
    "    # Perform ANOVA\n",
    "    f_statistic, p_value = stats.f_oneway(*ages_per_step)\n",
    "    print(f'F-statistic: {f_statistic}, p-value: {p_value}')\n",
    "else:\n",
    "    print(\"There are not enough data groups to perform ANOVA.\")\n",
    "\n",
    "# Visualization (optional)\n",
    "plt.figure(figsize=(10, 6))\n",
    "sns.violinplot(x='process_step', y='clnt_age', data=df_combined)\n",
    "plt.title('Age Distribution by Completed Process Steps')\n",
    "plt.xlabel('Process Steps')\n",
    "plt.ylabel('Age')\n",
    "plt.xticks(rotation=45)\n",
    "plt.show()"
   ]
  },
  {
   "cell_type": "markdown",
   "id": "02588d1f",
   "metadata": {},
   "source": [
    "### Abandonment Rage"
   ]
  },
  {
   "cell_type": "code",
   "execution_count": 253,
   "id": "829d22ca",
   "metadata": {},
   "outputs": [
    {
     "name": "stdout",
     "output_type": "stream",
     "text": [
      "Abandonment Rate: 31.86%\n"
     ]
    }
   ],
   "source": [
    "# Test Abandonment Rate\n",
    "total_started = df_wd_merged[df_wd_merged['process_step'] == 'start']['client_id'].nunique()\n",
    "total_completed = df_wd_merged[df_wd_merged['process_step'] == 'confirm']['client_id'].nunique()\n",
    "abandonment_rate = (total_started - total_completed) / total_started * 100\n",
    "\n",
    "print(f\"Abandonment Rate: {abandonment_rate:.2f}%\")"
   ]
  },
  {
   "cell_type": "markdown",
   "id": "16e242bb",
   "metadata": {},
   "source": [
    "### Average Customer Loyalty"
   ]
  },
  {
   "cell_type": "code",
   "execution_count": 254,
   "id": "87730619",
   "metadata": {},
   "outputs": [
    {
     "name": "stdout",
     "output_type": "stream",
     "text": [
      "Average account years: 12.03\n"
     ]
    }
   ],
   "source": [
    "# Average Customer Loyalty (year)\n",
    "average_loyalty_years = df_exp_clients_demo['clnt_tenure_yr'].mean()\n",
    "\n",
    "print(f\"Average account years: {average_loyalty_years:.2f}\")"
   ]
  },
  {
   "cell_type": "markdown",
   "id": "66dcd5c5",
   "metadata": {},
   "source": [
    "### Average number of steps per user"
   ]
  },
  {
   "cell_type": "code",
   "execution_count": 255,
   "id": "edc69cc4",
   "metadata": {},
   "outputs": [
    {
     "name": "stdout",
     "output_type": "stream",
     "text": [
      "Average Number of Steps: 6.28\n"
     ]
    }
   ],
   "source": [
    "# Average number of Steps\n",
    "steps_per_user = df_wd_merged.groupby('client_id')['process_step'].count()\n",
    "average_number_of_steps = steps_per_user.mean()\n",
    "\n",
    "print(f\"Average Number of Steps: {average_number_of_steps:.2f}\")\n"
   ]
  },
  {
   "cell_type": "markdown",
   "id": "3c23ff55",
   "metadata": {},
   "source": [
    "### Logons last 6 months"
   ]
  },
  {
   "cell_type": "code",
   "execution_count": 256,
   "id": "2dcee887",
   "metadata": {},
   "outputs": [
    {
     "name": "stdout",
     "output_type": "stream",
     "text": [
      "Logons during the last 6 months: 6.13\n"
     ]
    }
   ],
   "source": [
    "# Logons during the last 6 months\n",
    "average_engagement = df_exp_clients_demo['logons_6_mnth'].mean()\n",
    "print(f\"Logons during the last 6 months: {average_engagement:.2f}\")"
   ]
  },
  {
   "cell_type": "markdown",
   "id": "ccf716cb",
   "metadata": {},
   "source": [
    "### Total clients segmented by Balance"
   ]
  },
  {
   "cell_type": "code",
   "execution_count": 257,
   "id": "057cdd7a",
   "metadata": {},
   "outputs": [
    {
     "name": "stderr",
     "output_type": "stream",
     "text": [
      "/var/folders/ft/qxd3zsb519bf70l9x9qmkywm0000gn/T/ipykernel_28170/1829358965.py:8: FutureWarning: The default of observed=False is deprecated and will be changed to True in a future version of pandas. Pass observed=False to retain current behavior or observed=True to adopt the future default and silence this warning.\n",
      "  df_grouped_by_balance = df_exp_clients_demo.groupby(pd.cut(df_exp_clients_demo['bal'], bins=bins)).size()\n"
     ]
    },
    {
     "data": {
      "image/png": "[encoded data removed]",
      "text/plain": [
       "<Figure size 640x480 with 1 Axes>"
      ]
     },
     "metadata": {},
     "output_type": "display_data"
    }
   ],
   "source": [
    "import numpy as np\n",
    "import matplotlib.pyplot as plt\n",
    "\n",
    "# Adjust the bins based on the balance range\n",
    "bins = [0, 50000, 100000, 500000, 1000000, 5000000, np.inf]\n",
    "\n",
    "# Group clients based on balance with the new bins\n",
    "df_grouped_by_balance = df_exp_clients_demo.groupby(pd.cut(df_exp_clients_demo['bal'], bins=bins)).size()\n",
    "\n",
    "# Plot the bar chart\n",
    "ax = df_grouped_by_balance.plot(kind='bar', title='Customer Segments by Balance')\n",
    "\n",
    "# Rotate the x labels for better readability\n",
    "ax.set_xticklabels(ax.get_xticklabels(), rotation=45, ha=\"right\")\n",
    "plt.tight_layout()  # Adjust layout to prevent clipping of labels\n",
    "plt.show()"
   ]
  },
  {
   "cell_type": "markdown",
   "id": "ba11c129",
   "metadata": {},
   "source": [
    "### Call last 6 months"
   ]
  },
  {
   "cell_type": "code",
   "execution_count": 258,
   "id": "6fb614b9",
   "metadata": {},
   "outputs": [
    {
     "name": "stdout",
     "output_type": "stream",
     "text": [
      "Calls during the last 6 months: 3.09\n"
     ]
    }
   ],
   "source": [
    "# Calls during the last 6 months\n",
    "average_engagement = df_exp_clients_demo['calls_6_mnth'].mean()\n",
    "print(f\"Calls during the last 6 months: {average_engagement:.2f}\")"
   ]
  },
  {
   "cell_type": "markdown",
   "id": "03035061",
   "metadata": {},
   "source": [
    "## Performance Metrics : Success indicators"
   ]
  },
  {
   "cell_type": "markdown",
   "id": "8d597914",
   "metadata": {},
   "source": [
    "### Comparing balance by experiment type."
   ]
  },
  {
   "cell_type": "code",
   "execution_count": 259,
   "id": "c10b973a",
   "metadata": {},
   "outputs": [
    {
     "name": "stdout",
     "output_type": "stream",
     "text": [
      "Average balance for Experiment Group: 148962.21\n",
      "Average balance for Control Group: 150146.75\n"
     ]
    }
   ],
   "source": [
    "# Execute the function with df_exp_clients_demo\n",
    "test_balance, control_balance = pf.compare_test_control_groups(df_exp_clients_demo, 'Variation', 'bal')"
   ]
  },
  {
   "cell_type": "code",
   "execution_count": 260,
   "id": "56495d07",
   "metadata": {},
   "outputs": [
    {
     "data": {
      "image/png": "[encoded data removed]",
      "text/plain": [
       "<Figure size 800x600 with 1 Axes>"
      ]
     },
     "metadata": {},
     "output_type": "display_data"
    }
   ],
   "source": [
    "import matplotlib.pyplot as plt\n",
    "\n",
    "# Test vs Control Group Analysis\n",
    "df_control = df_exp_clients_demo[df_exp_clients_demo['Variation'] == \"Control\"]\n",
    "df_test = df_exp_clients_demo[df_exp_clients_demo['Variation'] == \"Test\"]\n",
    "\n",
    "# Comparing average balances\n",
    "test_balance = round(df_test['bal'].mean(), 2)\n",
    "control_balance = round(df_control['bal'].mean(), 2)\n",
    "\n",
    "# Data for the bar plot\n",
    "groups = ['Control', 'Test']\n",
    "balances = [control_balance, test_balance]\n",
    "\n",
    "# Plotting\n",
    "plt.figure(figsize=(8, 6))\n",
    "plt.bar(groups, balances, color=['blue', 'green'])\n",
    "plt.title('Average Balance Comparison: Control vs Test Group')\n",
    "plt.ylabel('Average Balance')\n",
    "plt.xlabel('Group')\n",
    "\n",
    "# Displaying the values on top of the bars\n",
    "for i, value in enumerate(balances):\n",
    "    plt.text(i, value + 5000, f'{value}', ha='center', fontsize=12)\n",
    "\n",
    "plt.tight_layout()\n",
    "plt.show()"
   ]
  },
  {
   "cell_type": "markdown",
   "id": "bdfd3b4b",
   "metadata": {},
   "source": [
    "### Check significant association between gender and variation."
   ]
  },
  {
   "cell_type": "code",
   "execution_count": 261,
   "id": "2e955bfe",
   "metadata": {},
   "outputs": [
    {
     "name": "stdout",
     "output_type": "stream",
     "text": [
      "Chi-square Statistic: 1.9056056124660148\n",
      "P-value: 0.3856585809503161\n",
      "No significant association between the two variables.\n"
     ]
    }
   ],
   "source": [
    "# Execute the function with df_exp_clients_demo\n",
    "chi2, p = pf.perform_chi_square_test(df_exp_clients_demo, 'gendr', 'Variation')"
   ]
  },
  {
   "cell_type": "markdown",
   "id": "c326f0bc",
   "metadata": {},
   "source": [
    "### Check if balance differs across different age groups"
   ]
  },
  {
   "cell_type": "code",
   "execution_count": 262,
   "id": "00870af2",
   "metadata": {},
   "outputs": [
    {
     "name": "stdout",
     "output_type": "stream",
     "text": [
      "ANOVA F-Statistic: 444.7857936734214\n",
      "P-value: 0.0\n",
      "There is a statistically significant difference in average balances across different age groups.\n"
     ]
    }
   ],
   "source": [
    "# Parameters for the age groups and balance column\n",
    "bins = [0, 25, 35, 45, 55, 65, 100]\n",
    "labels = ['<25', '25-35', '35-45', '45-55', '55-65', '>65']\n",
    "alpha = 0.05  # Significance level\n",
    "\n",
    "# Execute the function with df_exp_clients_demo\n",
    "anova_result = pf.perform_anova_by_age_group(df_exp_clients_demo, 'clnt_age', 'bal', bins, labels, alpha)"
   ]
  },
  {
   "cell_type": "markdown",
   "id": "cfdb35cb",
   "metadata": {},
   "source": [
    "## Performance Metrics : Redesign Outcome"
   ]
  },
  {
   "cell_type": "markdown",
   "id": "ea941db2",
   "metadata": {},
   "source": [
    "Considering that we do not have enough KPIs as success indicators, let's find out the \"Redesign Outcome\" using the new data generated at the end of this document, and comparing them graphically in Tableau."
   ]
  },
  {
   "cell_type": "markdown",
   "id": "4fbf11cc",
   "metadata": {},
   "source": [
    "## Generate new data"
   ]
  },
  {
   "cell_type": "markdown",
   "id": "a3a7bece",
   "metadata": {},
   "source": [
    "### **1. New Web Data CSV with try_session and step_time_seconds**\n",
    "We generate a new csv ***(\"csv/cleaned/web_data_steps_try_and_time.csv\")*** with new columns (KPIS)."
   ]
  },
  {
   "cell_type": "markdown",
   "id": "2a70544a",
   "metadata": {},
   "source": [
    "##### **Establish a data process logic and create *\"try_session\"***\n",
    "\n",
    "1. **Establish a data process logic to create KPIs \"process_order\"** in which each *\"start\"* is a new attempt, and the user can change between steps of 1 unit forward or backward, but if the jump is greater it will be considered as another attempt.\n",
    "\n",
    "2. **\"try_session\"** = the session ID for each attempt. Each user will have T01, T02, T03, etc. depending on the number of attempts they have run in the experiment."
   ]
  },
  {
   "cell_type": "code",
   "execution_count": 263,
   "id": "30101099",
   "metadata": {},
   "outputs": [
    {
     "name": "stderr",
     "output_type": "stream",
     "text": [
      "/var/folders/ft/qxd3zsb519bf70l9x9qmkywm0000gn/T/ipykernel_28170/41432849.py:2: DeprecationWarning: DataFrameGroupBy.apply operated on the grouping columns. This behavior is deprecated, and in a future version of pandas the grouping columns will be excluded from the operation. Either pass `include_groups=False` to exclude the groupings or explicitly select the grouping columns after groupby to silence this warning.\n",
      "  df_wd_steps_try_seconds = df_wd_merged.groupby('client_id', group_keys=False).apply(pf.assign_try_session).reset_index(drop=True)\n"
     ]
    }
   ],
   "source": [
    "# Apply the logic by client_id to assign try sessions\n",
    "df_wd_steps_try_seconds = df_wd_merged.groupby('client_id', group_keys=False).apply(pf.assign_try_session).reset_index(drop=True)"
   ]
  },
  {
   "cell_type": "markdown",
   "id": "48238e6e",
   "metadata": {},
   "source": [
    "##### **Create the time per step in seconds**\n",
    "1. **\"next_step\"** = we do a shift to add the next step to each *\"process_step\"*. We use this column to calculate the time difference, then we delete it.\n",
    "\n",
    "2. **\"step_time_seconds\"** = the time in seconds per step, calculated using the difference between the *\"date_time\"* in current step and the next step in correct format. Note that the *\"confirm\"* steps have no time, since there are no next steps."
   ]
  },
  {
   "cell_type": "code",
   "execution_count": 264,
   "id": "4378dba2",
   "metadata": {},
   "outputs": [
    {
     "name": "stderr",
     "output_type": "stream",
     "text": [
      "/var/folders/ft/qxd3zsb519bf70l9x9qmkywm0000gn/T/ipykernel_28170/1455703334.py:2: DeprecationWarning: DataFrameGroupBy.apply operated on the grouping columns. This behavior is deprecated, and in a future version of pandas the grouping columns will be excluded from the operation. Either pass `include_groups=False` to exclude the groupings or explicitly select the grouping columns after groupby to silence this warning.\n",
      "  df_wd_steps_try_seconds = df_wd_steps_try_seconds.groupby('client_id', group_keys=False).apply(pf.add_next_step_and_step_time_seconds).reset_index(drop=True)\n"
     ]
    }
   ],
   "source": [
    "# Apply the function to df_wd_merged for each client_id\n",
    "df_wd_steps_try_seconds = df_wd_steps_try_seconds.groupby('client_id', group_keys=False).apply(pf.add_next_step_and_step_time_seconds).reset_index(drop=True)"
   ]
  },
  {
   "cell_type": "markdown",
   "id": "14670857",
   "metadata": {},
   "source": [
    "##### **Final data cleaning**\n",
    "\n",
    "1. **We eliminate the \"visitor_id\" and \"visit_id\" columns** since we have detected that they are not useful for calculating the *\"try_session\"* since we have detected that for the same attempt there can be more than one value in that column.\n",
    "\n",
    "2. **Replace the values ​​other than NaN in the *\"step_time_seconds\"*** of the *\"process_step = confirm\"* since there are times when the \"confirm\" step is repeated and understood as another new step, and this must be rectified. Otherwise, a more complex logic would have to be created for the creation of *\"try_session\"*.\n",
    "\n",
    "3. **And finally, generate the new *.csv* for later use.**"
   ]
  },
  {
   "cell_type": "code",
   "execution_count": 265,
   "id": "ee83c34d",
   "metadata": {},
   "outputs": [],
   "source": [
    "# Remove the 'visitor_id' and 'visit_id' columns from the DataFrame\n",
    "df_wd_steps_try_seconds = df_wd_steps_try_seconds.drop(columns=['visitor_id', 'visit_id'])\n",
    "\n",
    "# Replace values that are NOT NaN in 'step_time_seconds' for rows where 'process_step' is 'confirm'\n",
    "df_wd_steps_try_seconds.loc[(df_wd_steps_try_seconds['process_step'] == 'confirm') & (~df_wd_steps_try_seconds['step_time_seconds'].isna()), 'step_time_seconds'] = np.nan\n",
    "\n",
    "# Create the new .csv with dataframe \"Web Data\" and new KPIs\n",
    "df_wd_steps_try_seconds.to_csv(\"csv/cleaned/web_data_steps_try_and_time.csv\")"
   ]
  },
  {
   "cell_type": "markdown",
   "id": "d7f1d330",
   "metadata": {},
   "source": [
    "### **2. New client metrics CSV with same data process logic**\n",
    "We generate new data ***(\"csv/cleaned/client_metrics.csv\")*** with new columns (KPIS)."
   ]
  },
  {
   "cell_type": "markdown",
   "id": "aaabd17b",
   "metadata": {},
   "source": [
    "##### **Use same data process logic and create new client metrics like:**\n",
    "\n",
    "1. **\"total_tries\"** = it is the total number of tries.\n",
    "\n",
    "2. **\"process_fail\"** = it is the total number of failed tries.\n",
    "\n",
    "3. **\"process_complete\"** = it is the total number of completed tries.\n",
    "\n",
    "4. **\"time_fails\"** = it is the total time of failed tries.\n",
    "\n",
    "5. **\"time_completes\"** = it is the total time of completed tries.\n",
    "\n",
    "6. **\"avg_time_failed\"** = it is the average time per failed tries.\n",
    "\n",
    "7. **\"avg_time_completed\"** = it is the average time per completed tries.\n",
    "\n",
    "8. **\"total_start\"** = it is the total number of *\"start\"* step.\n",
    "\n",
    "9. **\"total_step_1\"** = it is the total number of *\"step_1\"* step.\n",
    "\n",
    "10. **\"total_step_2\"** = it is the total number of *\"step_2\"* step.\n",
    "\n",
    "11. **\"total_step_3\"** = it is the total number of *\"step_3\"* step.\n",
    "\n",
    "12. **\"total_confirm\"** = it is the total number of *\"confirm\"* step.\n",
    "\n",
    "13. **\"avg_time_start\"** = it is the average time per *\"start\"* per client_id.\n",
    "\n",
    "14. **\"avg_time_step_1\"** = it is the average time per *\"step_1\"* per client_id.\n",
    "\n",
    "15. **\"avg_time_step_2\"** = it is the average time per *\"step_2\"* per client_id.\n",
    "\n",
    "16. **\"avg_time_step_3\"** = it is the average time per *\"step_3\"* per client_id.\n",
    "\n",
    "17. **\"avg_time_confirm\"** = These column doesn't exist because after confirm step there's no more steps."
   ]
  },
  {
   "cell_type": "code",
   "execution_count": 266,
   "id": "71889f70",
   "metadata": {},
   "outputs": [
    {
     "name": "stderr",
     "output_type": "stream",
     "text": [
      "/var/folders/ft/qxd3zsb519bf70l9x9qmkywm0000gn/T/ipykernel_28170/1307570177.py:2: DeprecationWarning: DataFrameGroupBy.apply operated on the grouping columns. This behavior is deprecated, and in a future version of pandas the grouping columns will be excluded from the operation. Either pass `include_groups=False` to exclude the groupings or explicitly select the grouping columns after groupby to silence this warning.\n",
      "  df_client_metrics = df_wd_merged.groupby('client_id', group_keys=False).apply(pf.calculate_process_metrics).reset_index()\n"
     ]
    }
   ],
   "source": [
    "# Group by client_id and apply the metrics function\n",
    "df_client_metrics = df_wd_merged.groupby('client_id', group_keys=False).apply(pf.calculate_process_metrics).reset_index()"
   ]
  },
  {
   "cell_type": "markdown",
   "id": "181f2153",
   "metadata": {},
   "source": [
    "##### **Generate .csv *(\"client_metrics.csv\")***"
   ]
  },
  {
   "cell_type": "code",
   "execution_count": 267,
   "id": "0f7a1197",
   "metadata": {},
   "outputs": [],
   "source": [
    "# Generate the .csv\n",
    "df_client_metrics.to_csv(\"csv/cleaned/client_metrics.csv\")"
   ]
  },
  {
   "cell_type": "markdown",
   "id": "81dc3455",
   "metadata": {},
   "source": [
    "## KPIS & Insights"
   ]
  },
  {
   "cell_type": "markdown",
   "id": "adf0af1d",
   "metadata": {},
   "source": [
    "**Next, we're going to use Tableau to generate graphic Dashboards.\n",
    "We have main and secondary hypotheses to check.**\n",
    "\n",
    "##### **MAIN HYPOTHESES**\n",
    "\n",
    "1. Completion rate: Confirmed if the difference in completion rate of the new design and the old design is statistically significant. Carried out an analysis ensuring that the observed increase in completion rate from the A/B test meets or exceeds this 5% threshold.\n",
    "\n",
    "2. Design Effectiveness\n",
    "\n",
    "3. Duration\n",
    "\n",
    "\n",
    "##### **SECONDARY HYPOTHESES**\n",
    "\n",
    "1. Users who have managed to complete the process on the first try are significantly fewer than those who have tried several times until completing them.\n",
    "\n",
    "2. The average abandonment rate after the first attempt in the Control phase is significantly higher than in the Test phase.\n",
    "\n",
    "3. In the Control test, users on average have completed the process significantly faster than in the Test test.\n",
    "\n",
    "4. Younger users have had higher success rates than older users with respect to the average age.\n",
    "\n",
    "5. Men have significantly less spending than women.\n",
    "\n",
    "6. Younger users spend more on average than older users with respect to the average age.\n",
    "\n",
    "7. Older customers have a worse success rate than new customers in the new test and new customers have a worse success rate in the old test according to the average age of customers.\n",
    "\n",
    "8. As the number of accounts increases, the spending per customer increases.\n",
    "\n",
    "9. There are significant differences between the age of the customer and their gender.\n",
    "\n",
    "10. Customers who are older and have been there longer than the average have a lower success rate on the test website.\n",
    "\n",
    "*Look at Github to find Tableau project.*"
   ]
  }
 ],
 "metadata": {
  "kernelspec": {
   "display_name": "second_project_ironhack",
   "language": "python",
   "name": "python3"
  },
  "language_info": {
   "codemirror_mode": {
    "name": "ipython",
    "version": 3
   },
   "file_extension": ".py",
   "mimetype": "text/x-python",
   "name": "python",
   "nbconvert_exporter": "python",
   "pygments_lexer": "ipython3",
   "version": "3.12.4"
  }
 },
 "nbformat": 4,
 "nbformat_minor": 5
}
