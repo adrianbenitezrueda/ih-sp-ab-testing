{
 "cells": [
  {
   "cell_type": "code",
   "execution_count": null,
   "metadata": {},
   "outputs": [],
   "source": [
    "import pandas as pd\n",
    "import matplotlib.pyplot as plt\n",
    "import seaborn as sns\n",
    "import numpy as np"
   ]
  },
  {
   "cell_type": "code",
   "execution_count": null,
   "metadata": {},
   "outputs": [],
   "source": [
    "## Data load & merge"
   ]
  },
  {
   "cell_type": "code",
   "execution_count": null,
   "metadata": {},
   "outputs": [],
   "source": [
    "# Read final web data dataframes\n",
    "df_wd_1 = pd.read_csv(\"df_final_web_data_pt_1.txt\")\n",
    "df_wd_2 = pd.read_csv(\"df_final_web_data_pt_2.txt\")"
   ]
  },
  {
   "cell_type": "code",
   "execution_count": null,
   "metadata": {},
   "outputs": [],
   "source": [
    "df_wd_1"
   ]
  },
  {
   "cell_type": "code",
   "execution_count": null,
   "metadata": {},
   "outputs": [],
   "source": [
    "df_wd_2"
   ]
  },
  {
   "cell_type": "code",
   "execution_count": null,
   "metadata": {},
   "outputs": [],
   "source": [
    "df_wd_merged = pd.concat([df_wd_1, df_wd_2])\n",
    "df_wd_merged"
   ]
  },
  {
   "cell_type": "code",
   "execution_count": null,
   "metadata": {},
   "outputs": [],
   "source": [
    "\"\"\" # Merge final web data dataframes\n",
    "df_wd_merged = pd.merge(df_wd_1, df_wd_2, on= \"client_id\")\n",
    "df_wd_merged \"\"\""
   ]
  },
  {
   "cell_type": "code",
   "execution_count": null,
   "metadata": {},
   "outputs": [],
   "source": [
    "# Read final demo dataframe\n",
    "df_demo= pd.read_csv(\"df_final_demo.txt\")\n",
    "df_demo"
   ]
  },
  {
   "cell_type": "code",
   "execution_count": null,
   "metadata": {},
   "outputs": [],
   "source": [
    "# Read final experiment clients dataframe\n",
    "df_exp_clients= pd.read_csv(\"df_final_experiment_clients.txt\")\n",
    "df_exp_clients"
   ]
  },
  {
   "cell_type": "code",
   "execution_count": null,
   "metadata": {},
   "outputs": [],
   "source": [
    "# Convertir a conjuntos los client_id de ambos DataFrames\n",
    "clients_demo = set(df_demo['client_id'])\n",
    "clients_exp_clients = set(df_exp_clients['client_id'])\n",
    "\n",
    "# Encontrar los client_id que están en df_demo pero no en df_exp_clients\n",
    "clients_missing = clients_demo - clients_exp_clients\n",
    "\n",
    "# Mostrar los client_id que faltan\n",
    "if clients_missing:\n",
    "    print(f\"Client_id que están en df_demo pero no en df_exp_clients: {list(clients_missing)}\")\n",
    "else:\n",
    "    print(\"Todos los client_id de df_demo están presentes en df_exp_clients.\")\n"
   ]
  },
  {
   "cell_type": "code",
   "execution_count": null,
   "metadata": {},
   "outputs": [],
   "source": [
    "# Convertir a conjuntos los client_id de ambos DataFrames\n",
    "clients_demo = set(df_demo['client_id'])\n",
    "clients_exp_clients = set(df_exp_clients['client_id'])\n",
    "\n",
    "# Encontrar los client_id que están en df_exp_clients pero no en df_demo\n",
    "clients_extra = clients_exp_clients - clients_demo\n",
    "\n",
    "# Mostrar los client_id que faltan en df_demo\n",
    "if clients_extra:\n",
    "    print(f\"Client_id que están en df_exp_clients pero no en df_demo: {list(clients_extra)}\")\n",
    "else:\n",
    "    print(\"Todos los client_id de df_exp_clients están presentes en df_demo.\")"
   ]
  },
  {
   "cell_type": "code",
   "execution_count": null,
   "metadata": {},
   "outputs": [],
   "source": [
    "## Dataset discovery"
   ]
  },
  {
   "cell_type": "code",
   "execution_count": null,
   "metadata": {},
   "outputs": [],
   "source": [
    "# Show dataframe wed data info\n",
    "df_wd_merged.info()"
   ]
  },
  {
   "cell_type": "code",
   "execution_count": null,
   "metadata": {},
   "outputs": [],
   "source": [
    "# Show dataframe demo info\n",
    "df_demo.info()"
   ]
  },
  {
   "cell_type": "code",
   "execution_count": null,
   "metadata": {},
   "outputs": [],
   "source": [
    "# Show dataframe experiment clients info\n",
    "df_exp_clients.info()"
   ]
  },
  {
   "cell_type": "code",
   "execution_count": null,
   "metadata": {},
   "outputs": [],
   "source": [
    "# Show dtypes numeric dataframe web data\n",
    "df_wd_merged.select_dtypes(\"number\").nunique()"
   ]
  },
  {
   "cell_type": "code",
   "execution_count": null,
   "metadata": {},
   "outputs": [],
   "source": [
    "# Show dtypes numeric dataframe demo\n",
    "df_demo.select_dtypes(\"number\").nunique()"
   ]
  },
  {
   "cell_type": "code",
   "execution_count": null,
   "metadata": {},
   "outputs": [],
   "source": [
    "# Show dtypes numeric dataframe experiment clients\n",
    "df_exp_clients.select_dtypes(\"number\").nunique()"
   ]
  },
  {
   "cell_type": "code",
   "execution_count": null,
   "metadata": {},
   "outputs": [],
   "source": [
    "# Checking for missing data in dataframe web data\n",
    "df_wd_merged.isnull().sum().sort_values(ascending=False)"
   ]
  },
  {
   "cell_type": "code",
   "execution_count": null,
   "metadata": {},
   "outputs": [],
   "source": [
    "# Checking for missing data in dataframe demo\n",
    "df_demo.isnull().sum().sort_values(ascending=False)"
   ]
  },
  {
   "cell_type": "code",
   "execution_count": null,
   "metadata": {},
   "outputs": [],
   "source": [
    "# Checking for missing data in dataframe experiment clients\n",
    "df_exp_clients.isnull().sum().sort_values(ascending=False)"
   ]
  },
  {
   "cell_type": "code",
   "execution_count": null,
   "metadata": {},
   "outputs": [],
   "source": [
    "# Checking for missing data in dataframe experiment clients\n",
    "df_exp_clients.isnull().sum().sort_values(ascending=False)"
   ]
  },
  {
   "cell_type": "code",
   "execution_count": null,
   "metadata": {},
   "outputs": [],
   "source": [
    "import matplotlib.pyplot as plt\n",
    "\n",
    "# Reemplaza los NaN por una etiqueta y cuenta los valores\n",
    "variation_counts = df_exp_clients['Variation'].fillna('NaN').value_counts()\n",
    "\n",
    "# Crea el gráfico de barras\n",
    "variation_counts.plot(kind='bar')\n",
    "plt.title(\"Count of Variation Values (Including NaN)\")\n",
    "plt.xlabel(\"Variation\")\n",
    "plt.ylabel(\"Count\")\n",
    "plt.show()"
   ]
  },
  {
   "cell_type": "code",
   "execution_count": null,
   "metadata": {},
   "outputs": [],
   "source": [
    "# Drop NaN values\n",
    "df_exp_clients_clean = df_exp_clients.dropna()\n",
    "df_exp_clients_clean.nunique()"
   ]
  },
  {
   "cell_type": "code",
   "execution_count": null,
   "metadata": {},
   "outputs": [],
   "source": [
    "# Merge dataframe experiment clients with dataframe demo \n",
    "df_exp_clients_demo = pd.merge(df_exp_clients_clean, df_demo, on='client_id', how='inner')\n",
    "df_exp_clients_demo"
   ]
  },
  {
   "cell_type": "markdown",
   "metadata": {},
   "source": [
    "El dataframe \"df_exp_clients_demo\" es el resultante del dataframe de experiment clients junto al dataframe demo eliminando los clientes que no se han tenido en cuenta para participar en el test A/B."
   ]
  },
  {
   "cell_type": "code",
   "execution_count": null,
   "metadata": {},
   "outputs": [],
   "source": [
    "df_wd_merged"
   ]
  },
  {
   "cell_type": "code",
   "execution_count": null,
   "metadata": {},
   "outputs": [],
   "source": [
    "df_wd_merged.client_id.nunique()"
   ]
  },
  {
   "cell_type": "markdown",
   "metadata": {},
   "source": [
    "Aquí se ve el total de clientes de los cuales tenemos registro de su participación en el test A/B"
   ]
  },
  {
   "cell_type": "code",
   "execution_count": null,
   "metadata": {},
   "outputs": [],
   "source": [
    "import matplotlib.pyplot as plt\n",
    "\n",
    "# Convertir a conjuntos los client_id de ambos DataFrames\n",
    "clients_inscritos = set(df_exp_clients['client_id'])\n",
    "clients_en_base_datos = set(df_demo['client_id'])\n",
    "\n",
    "# 1. Clientes que están inscritos en la prueba y también en la base de datos (intersección)\n",
    "clients_realized = clients_inscritos.intersection(clients_en_base_datos)\n",
    "\n",
    "# 2. Clientes que están inscritos en la prueba pero no en la base de datos (diferencia)\n",
    "clients_not_in_db = clients_inscritos - clients_en_base_datos\n",
    "\n",
    "# 3. Clientes que están en la base de datos pero no inscritos en la prueba\n",
    "clients_not_signed_up = clients_en_base_datos - clients_inscritos\n",
    "\n",
    "# Crear un diccionario con los resultados\n",
    "result = {\n",
    "    'Inscritos en la prueba (en base de datos)': len(clients_realized),\n",
    "    'Inscritos en la prueba (no en base de datos)': len(clients_not_in_db),\n",
    "    'No inscritos en la prueba (en base de datos)': len(clients_not_signed_up)\n",
    "}\n",
    "\n",
    "# Función para formatear las etiquetas mostrando porcentaje y número total\n",
    "def simple_autopct(pct):\n",
    "    total = sum(result.values())\n",
    "    absolute = int(round(pct * total / 100.0))\n",
    "    return f'{pct:.1f}%\\n({absolute:d})'\n",
    "\n",
    "# Crear la gráfica de tarta\n",
    "plt.figure(figsize=(7, 7))\n",
    "plt.pie(result.values(), labels=result.keys(), autopct=simple_autopct, startangle=90, colors=['#66b3ff', '#ff9999', '#99ff99'])\n",
    "plt.title('Distribución de clientes inscritos y en base de datos')\n",
    "plt.show()\n"
   ]
  },
  {
   "cell_type": "markdown",
   "metadata": {},
   "source": [
    "No coincide el total de clientes que han hecho la prueba y que tenemos datos. Por lo que necesitamos saber cuales clientes han hecho la prueba y no tenemos datos.\n"
   ]
  },
  {
   "cell_type": "code",
   "execution_count": null,
   "metadata": {},
   "outputs": [],
   "source": [
    "import matplotlib.pyplot as plt\n",
    "\n",
    "# Función personalizada para mostrar el porcentaje y el número total\n",
    "def func(pct, allvals):\n",
    "    absolute = int(pct/100.*sum(allvals))\n",
    "    return f\"{pct:.1f}%\\n({absolute:d})\"\n",
    "\n",
    "# Convertir a conjuntos los client_id de ambos DataFrames\n",
    "clients_demo = set(df_exp_clients_demo['client_id'])\n",
    "clients_wd_merged = set(df_wd_merged['client_id'])\n",
    "\n",
    "# 1. Clientes que han realizado la prueba (con datos)\n",
    "clients_realized = clients_demo.intersection(clients_wd_merged)\n",
    "\n",
    "# 2. Clientes que han realizado la prueba pero no están en df_demo\n",
    "clients_not_in_demo = clients_wd_merged - clients_demo\n",
    "\n",
    "# Crear un diccionario con los resultados (solo los que han realizado la prueba)\n",
    "result = {\n",
    "    'Han realizado la prueba (con datos)': len(clients_realized),\n",
    "    'Han realizado la prueba (sin datos)': len(clients_not_in_demo)\n",
    "}\n",
    "\n",
    "# Crear la gráfica de tarta\n",
    "plt.figure(figsize=(7, 7))\n",
    "plt.pie(result.values(), labels=result.keys(), autopct=lambda pct: func(pct, list(result.values())), \n",
    "        startangle=90, colors=['#66b3ff', '#99ff99'])\n",
    "plt.title('Distribución de clientes que han realizado la prueba')\n",
    "plt.show()"
   ]
  },
  {
   "cell_type": "code",
   "execution_count": null,
   "metadata": {},
   "outputs": [],
   "source": [
    "import pandas as pd\n",
    "import plotly.express as px\n",
    "\n",
    "# Convertir a conjuntos los client_id de ambos DataFrames\n",
    "clients_demo = set(df_exp_clients_demo['client_id'])\n",
    "clients_wd_merged = set(df_wd_merged['client_id'])\n",
    "\n",
    "# 1. Clientes que han realizado la prueba (con datos)\n",
    "clients_realized = clients_demo.intersection(clients_wd_merged)\n",
    "\n",
    "# 2. Clientes que han realizado la prueba pero no están en df_demo\n",
    "clients_not_in_demo = clients_wd_merged - clients_demo\n",
    "\n",
    "# Filtrar el DataFrame para solo los clientes que han realizado la prueba\n",
    "df_exp_clients_clean = df_exp_clients_clean[df_exp_clients_clean['client_id'].isin(clients_wd_merged)]\n",
    "\n",
    "# Etiquetar clientes \"con datos\" o \"sin datos\" y Test/Control\n",
    "df_exp_clients_clean['Test_Control'] = df_exp_clients_clean.apply(\n",
    "    lambda row: f\"Han realizado la prueba (con datos)\" \n",
    "    if row['client_id'] in clients_realized \n",
    "    else f\"Han realizado la prueba (sin datos)\", axis=1)\n",
    "\n",
    "# Crear un DataFrame con las categorías jerárquicas\n",
    "df_exp_clients_clean['Category'] = df_exp_clients_clean['Test_Control']\n",
    "df_exp_clients_clean['Subcategory'] = df_exp_clients_clean['Variation']  # Test o Control\n",
    "\n",
    "# Crear el gráfico de Sunburst usando Plotly Express\n",
    "fig = px.sunburst(\n",
    "    df_exp_clients_clean, \n",
    "    path=['Category', 'Subcategory'],  # Definimos las jerarquías\n",
    "    values=None,  # Cuenta los valores automáticamente\n",
    "    title=\"Distribución de clientes que han realizado la prueba (Test y Control)\"\n",
    ")\n",
    "\n",
    "# Mostrar la gráfica\n",
    "fig.show()"
   ]
  },
  {
   "cell_type": "code",
   "execution_count": null,
   "metadata": {},
   "outputs": [],
   "source": [
    "# Convertir los client_id de ambos DataFrames en conjuntos\n",
    "clients_demo = set(df_exp_clients_demo['client_id'])\n",
    "clients_wd_merged = set(df_wd_merged['client_id'])\n",
    "\n",
    "# Calcular los client_id que están en df_wd_merged pero no en df_exp_clients_demo\n",
    "clients_not_in_demo = clients_wd_merged - clients_demo\n",
    "\n",
    "# Mostrar el número de client_id que están en df_wd_merged pero no en df_exp_clients_demo\n",
    "print(f\"Número de client_id en df_wd_merged que no están en df_exp_clients_demo: {len(clients_not_in_demo)}\")"
   ]
  },
  {
   "cell_type": "code",
   "execution_count": null,
   "metadata": {},
   "outputs": [],
   "source": [
    "# Agrupar por \"visitor_id_x\" y contar los valores únicos de \"visit_id_x\" para cada grupo\n",
    "visitor_check = df_wd_merged.groupby('visitor_id')['visit_id'].nunique()\n",
    "\n",
    "# Filtrar aquellos \"visitor_id_x\" que tienen más de un valor único en \"visit_id_x\"\n",
    "inconsistent_visitors = visitor_check[visitor_check > 1]\n",
    "\n",
    "# Mostrar los \"visitor_id_x\" que tienen valores diferentes en \"visit_id_x\"\n",
    "print(inconsistent_visitors)"
   ]
  },
  {
   "cell_type": "markdown",
   "metadata": {},
   "source": [
    "## Final clients in df_wd_merged with client data"
   ]
  },
  {
   "cell_type": "code",
   "execution_count": null,
   "metadata": {},
   "outputs": [],
   "source": [
    "# Create final dataframe of final clients with client data with A/B test\n",
    "df_wd_client_data = pd.merge(df_wd_merged, df_exp_clients_demo, on='client_id', how='inner')\n",
    "df_wd_client_data.client_id.nunique()"
   ]
  },
  {
   "cell_type": "code",
   "execution_count": null,
   "metadata": {},
   "outputs": [],
   "source": [
    "# Count occurrences of each process step\n",
    "step_counts = df_wd_merged['process_step'].value_counts()\n",
    "\n",
    "# Display the counts\n",
    "print(step_counts)\n"
   ]
  },
  {
   "cell_type": "markdown",
   "metadata": {},
   "source": [
    "## KPIs"
   ]
  },
  {
   "cell_type": "code",
   "execution_count": null,
   "metadata": {},
   "outputs": [],
   "source": [
    "# Pasos completados del proceso de prueba\n",
    "step_counts = df_wd_client_data['process_step'].value_counts()\n",
    "\n",
    "print(step_counts)\n"
   ]
  },
  {
   "cell_type": "code",
   "execution_count": null,
   "metadata": {},
   "outputs": [],
   "source": [
    "import matplotlib.pyplot as plt\n",
    "step_counts = df_wd_client_data['process_step'].value_counts()\n",
    "# Define a function for autopct (optional)\n",
    "def func(pct, allvalues):\n",
    "    absolute = int(pct / 100. * sum(allvalues))\n",
    "    return f\"{absolute} ({pct:.1f}%)\"\n",
    "\n",
    "# Create the pie chart\n",
    "plt.figure(figsize=(7, 7))\n",
    "plt.pie(\n",
    "    step_counts,  # Use the step_counts Series directly\n",
    "    labels=step_counts.index,  # Use the index for labels\n",
    "    autopct=lambda pct: func(pct, step_counts.values),  # Pass values for absolute calculations\n",
    "    startangle=90,\n",
    "    colors=['#66b3ff', '#99ff99', '#ff9999', '#ffcc99', '#c2c2f0']  # Add more colors if needed\n",
    ")\n",
    "plt.title('Pasos completados')\n",
    "plt.show()\n"
   ]
  },
  {
   "cell_type": "markdown",
   "metadata": {},
   "source": [
    "## Edad del cliente y pasos completados en la prueba"
   ]
  },
  {
   "cell_type": "code",
   "execution_count": null,
   "metadata": {},
   "outputs": [],
   "source": [
    "# conteo de clientes por edad\n",
    "cliente_edad = df_wd_client_data['clnt_age'].value_counts()\n",
    "\n",
    "print(cliente_edad)"
   ]
  },
  {
   "cell_type": "code",
   "execution_count": null,
   "metadata": {},
   "outputs": [],
   "source": [
    "# Relación entre edad y pasos completados del proceso de prueba\n",
    "\n",
    "edad_por_paso = df_wd_client_data.groupby('process_step')['clnt_age'].describe()\n",
    "print(edad_por_paso)"
   ]
  },
  {
   "cell_type": "code",
   "execution_count": null,
   "metadata": {},
   "outputs": [],
   "source": [
    "import pandas as pd\n",
    "import scipy.stats as stats\n",
    "import seaborn as sns\n",
    "import matplotlib.pyplot as plt\n",
    "\n",
    "# Crear una lista de listas de edades por cada proceso\n",
    "edades_por_paso = [df_wd_client_data[df_wd_client_data['process_step'] == step]['clnt_age'].dropna().tolist() \n",
    "                   for step in df_wd_client_data['process_step'].unique()]\n",
    "\n",
    "# Comprobar la longitud de las listas de edades\n",
    "print([len(edad) for edad in edades_por_paso])  # Deberías tener al menos 2 listas no vacías\n",
    "\n",
    "# Verifica que haya al menos dos grupos antes de realizar ANOVA\n",
    "if len(edades_por_paso) >= 2 and all(len(edad) > 0 for edad in edades_por_paso):\n",
    "    # Realizar ANOVA\n",
    "    f_statistic, p_value = stats.f_oneway(*edades_por_paso)\n",
    "    print(f'Estadístico F: {f_statistic}, Valor p: {p_value}')\n",
    "else:\n",
    "    print(\"No hay suficientes grupos de datos para realizar ANOVA.\")\n",
    "\n",
    "# Visualización (opcional)\n",
    "plt.figure(figsize=(10, 6))\n",
    "sns.boxplot(x='process_step', y='clnt_age', data=df_wd_client_data)\n",
    "plt.title('Distribución de Edades por Pasos Completados del Proceso')\n",
    "plt.xlabel('Pasos del Proceso')\n",
    "plt.ylabel('Edad')\n",
    "plt.xticks(rotation=45)  # Rotar etiquetas si es necesario\n",
    "plt.show()"
   ]
  },
  {
   "cell_type": "code",
   "execution_count": null,
   "metadata": {},
   "outputs": [],
   "source": [
    "# Comparacion de Grupos Demograficos \n",
    "comparacion_demografica = df_wd_client_data.groupby('clnt_age')['process_step'].apply(lambda x: (x == 'confirm').mean())\n",
    "print(comparacion_demografica)"
   ]
  },
  {
   "cell_type": "markdown",
   "metadata": {},
   "source": [
    "## Series de tiempo"
   ]
  },
  {
   "cell_type": "code",
   "execution_count": null,
   "metadata": {},
   "outputs": [],
   "source": [
    "# fecha_hora\n",
    "df_wd_client_data['date_time'] = pd.to_datetime(df_wd_client_data['date_time'])\n",
    "\n",
    "# DataFrame by date_time (series de tiempo)\n",
    "df_time = df_wd_client_data.sort_values(by='date_time')\n"
   ]
  },
  {
   "cell_type": "code",
   "execution_count": null,
   "metadata": {},
   "outputs": [],
   "source": [
    "# fecha_hora y cliente\n",
    "df_time_client = df_wd_client_data.sort_values(by=['client_id', 'date_time'])"
   ]
  },
  {
   "cell_type": "code",
   "execution_count": null,
   "metadata": {},
   "outputs": [],
   "source": [
    "# Tiempo que pasa cada cliente en la prueba\n",
    "\n",
    "client_counts = df_time_client.groupby('client_id').size()\n",
    "print(client_counts)\n",
    "\n",
    "# Rango de tiempo\n",
    "client_time_range = df_time.groupby('client_id')['date_time'].agg(['min', 'max'])"
   ]
  },
  {
   "cell_type": "code",
   "execution_count": null,
   "metadata": {},
   "outputs": [],
   "source": [
    "# Tiempo que emplea el cliente en la prueba\n",
    "df_time['time_spent'] = df_time.groupby('client_id')['date_time'].diff()\n",
    "\n",
    "# Display the DataFrame with time spent on each step\n",
    "print(df_time[['client_id', 'process_step', 'date_time', 'time_spent']])"
   ]
  },
  {
   "cell_type": "code",
   "execution_count": null,
   "metadata": {},
   "outputs": [],
   "source": [
    "# Data Frame tiempo que emplea el cliente\n",
    "time_spent_df = df_time[['client_id', 'time_spent']].copy()\n",
    "time_spent_df"
   ]
  },
  {
   "cell_type": "code",
   "execution_count": null,
   "metadata": {},
   "outputs": [],
   "source": [
    "# Tasa de Abandono de la Prueba\n",
    "total_iniciados = df_wd_client_data[df_wd_client_data['process_step'] == 'start']['client_id'].nunique()\n",
    "total_completados = df_wd_client_data[df_wd_client_data['process_step'] == 'confirm']['client_id'].nunique()\n",
    "tasa_abandono = (total_iniciados - total_completados) / total_iniciados * 100\n",
    "\n",
    "print(f\"Tasa de Abandono: {tasa_abandono:.2f}%\")"
   ]
  },
  {
   "cell_type": "code",
   "execution_count": null,
   "metadata": {},
   "outputs": [],
   "source": [
    "# Tiempo promedio que pasa el cliente en cada paso\n",
    "tiempo_promedio_por_paso = df_time.groupby('process_step')['time_spent'].mean()\n",
    "print(f\" Timpo Promedio por cada paso: {numero_promedio_intentos:.2f}\")"
   ]
  },
  {
   "cell_type": "code",
   "execution_count": null,
   "metadata": {},
   "outputs": [],
   "source": [
    "# Fidelidad de clientes en promedio (año)\n",
    "fidelidad_año = df_wd_client_data['clnt_tenure_yr'].mean()\n",
    "\n",
    "print(f\"Años promedio de las cuentas: {fidelidad_año:.2f}\")"
   ]
  },
  {
   "cell_type": "code",
   "execution_count": null,
   "metadata": {},
   "outputs": [],
   "source": [
    "# Numero de Intentos para Completar el Proceso\n",
    "intentos_por_usuario = df_wd_client_data.groupby('client_id')['process_step'].count()\n",
    "numero_promedio_intentos = intentos_por_usuario.mean()\n",
    "\n",
    "print(f\"Numero Promedio de Intentos: {numero_promedio_intentos:.2f}\")"
   ]
  },
  {
   "cell_type": "code",
   "execution_count": null,
   "metadata": {},
   "outputs": [],
   "source": [
    "# Logons durante los ultimos 6 meses\n",
    "engagement_promedio = df_wd_client_data['logons_6_mnth'].mean()\n",
    "print(f\"Logons durante los ultimos 6 meses: {engagement_promedio:.2f}\")"
   ]
  },
  {
   "cell_type": "code",
   "execution_count": null,
   "metadata": {},
   "outputs": [],
   "source": [
    "# Llamadas realizadas por el cliente a la empresa durante los ultimos 6 meses\n",
    "feedback_directo = df_wd_client_data['calls_6_mnth'].dropna().tolist()\n",
    "print(f\"Llamadas del cliente durante los ultimos 6 meses: {engagement_promedio:.2f}\")"
   ]
  }
 ],
 "metadata": {
  "kernelspec": {
   "display_name": "labs_ih",
   "language": "python",
   "name": "python3"
  },
  "language_info": {
   "codemirror_mode": {
    "name": "ipython",
    "version": 3
   },
   "file_extension": ".py",
   "mimetype": "text/x-python",
   "name": "python",
   "nbconvert_exporter": "python",
   "pygments_lexer": "ipython3",
   "version": "3.11.9"
  }
 },
 "nbformat": 4,
 "nbformat_minor": 2
}
